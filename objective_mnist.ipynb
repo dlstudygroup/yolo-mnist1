{
 "cells": [
  {
   "cell_type": "code",
   "execution_count": 2,
   "metadata": {},
   "outputs": [],
   "source": [
    "\"\"\"Model trained on MNIST dataset with variable input shape.\"\"\"\n",
    "\n",
    "\n",
    "import os\n",
    "os.environ['TF_CPP_MIN_LOG_LEVEL'] = '1'\n",
    "\n",
    "import numpy as np\n",
    "import tensorflow as tf\n",
    "from tensorflow.keras.datasets.mnist import load_data\n",
    "from tensorflow.keras.layers import (Conv2D, GlobalAveragePooling2D,\n",
    "                                     MaxPooling2D, Input, Dense)\n",
    "from tensorflow.keras.models import Model  # , Sequential\n",
    "# from utils.exceptions import TooSmallInputShape\n",
    "import matplotlib.pyplot as plt\n",
    "import cv2"
   ]
  },
  {
   "cell_type": "code",
   "execution_count": 3,
   "metadata": {},
   "outputs": [],
   "source": [
    "(x_train, y_train), (x_test, y_test) = load_data()\n",
    "\n",
    "x_train = x_train.reshape(-1, 28, 28, 1)\n",
    "x_train = x_train.astype('float32')\n",
    "x_train = x_train / 255"
   ]
  },
  {
   "cell_type": "code",
   "execution_count": 4,
   "metadata": {},
   "outputs": [],
   "source": [
    "# def nin_block(filters, kernel_size, strides, padding, inputs=None):\n",
    "#     if inputs:\n",
    "#         inp = Input(inputs)\n",
    "#         x = Conv2D(filters, kernel_size, strides=strides,\n",
    "#                    padding=padding, activation=\"relu\")(inp)\n",
    "#     else:\n",
    "#         inp = Conv2D(filters, kernel_size, strides=strides,\n",
    "#                      padding=padding, activation=\"relu\")\n",
    "#         x = inp\n",
    "\n",
    "#     x = Conv2D(filters, kernel_size=1, activation=\"relu\")(x)\n",
    "#     x = Conv2D(filters, kernel_size=1, activation=\"relu\")(x)\n",
    "#     pool = MaxPooling2D(pool_size=(2, 2))(x)\n",
    "#     return Model(inputs=inp, outputs=pool)\n",
    "\n",
    "\n",
    "class NinBlock(tf.keras.layers.Layer):\n",
    "    \"\"\"Conv2D 3x3 -> 1x1 -> 1x1.\"\"\"\n",
    "\n",
    "    def __init__(self, filters, kernel_size, strides, padding, inputs=None):\n",
    "        \"\"\"Initialize layers.\"\"\"\n",
    "        super(NinBlock, self).__init__()\n",
    "        # self.inputs = inputs\n",
    "        self.filters = filters\n",
    "        self.kernel_size = kernel_size\n",
    "        self.strides = strides\n",
    "        self.padding = padding\n",
    "\n",
    "        self.conv1 = Conv2D(self.filters, self.kernel_size, strides=self.strides,\n",
    "                            padding=self.padding, activation=\"relu\")\n",
    "        self.conv2 = Conv2D(self.filters, 1, activation=\"relu\")\n",
    "        self.conv3 = Conv2D(self.filters, 1, activation=\"relu\")\n",
    "        self.max_pool = MaxPooling2D(pool_size=(2, 2))\n",
    "\n",
    "    def call(self, input_tensor):\n",
    "        \"\"\"Connect layers.\"\"\"\n",
    "        inp = self.conv1(input_tensor)\n",
    "        x = self.conv2(inp)\n",
    "        x = self.conv3(x)\n",
    "        return self.max_pool(x)"
   ]
  },
  {
   "cell_type": "code",
   "execution_count": 24,
   "metadata": {},
   "outputs": [],
   "source": [
    "class NinMnist(Model):\n",
    "    \"\"\"\n",
    "    Model based on network in network architecture.\n",
    "    It is adjusted for mnist dataset.\n",
    "    \"\"\"\n",
    "    def __init__(self, inputs=[28, 28, 1]):\n",
    "        super(NinMnist, self).__init__()\n",
    "        self.inputs = inputs\n",
    "        # self.minimum_input_shape = (14, 14, 1)\n",
    "\n",
    "        self.block1 = NinBlock(16, 3, 1, \"same\")\n",
    "        self.block2 = NinBlock(32, 3, 1, \"same\")\n",
    "        self.block3 = NinBlock(64, 3, 1, \"same\")\n",
    "        self.conv2d = Conv2D(filters=10, kernel_size=(3, 3), strides=1)\n",
    "        self.global_pool = GlobalAveragePooling2D()\n",
    "        self.FC1 = Dense(100, activation=\"relu\")\n",
    "        self.out = Dense(10, activation=\"softmax\")\n",
    "\n",
    "    def call(self, input_tensor):\n",
    "        x = self.block1(input_tensor)\n",
    "        x = self.block2(x)\n",
    "        x = self.block3(x)\n",
    "        x = self.conv2d(x)\n",
    "        x = self.global_pool(x)\n",
    "        x = self.FC1(x)\n",
    "        return self.out(x)\n",
    "        \n",
    "\n",
    "    def model(self):\n",
    "        inp = Input(self.inputs)\n",
    "        return Model(inputs=inp, outputs=self.call(inp))\n",
    "\n",
    "    # def build(self, input_shape):\n",
    "\n",
    "    # #     width, height, channels = self.inputs\n",
    "    # #     if (self.minimum_input_shape[0] > width or\n",
    "    # #         self.minimum_input_shape[1] > height or\n",
    "    # #         self.minimum_input_shape[2] > channels):\n",
    "    # #         raise TooSmallInputShape(self.inputs, self.minimum_input_shape)\n",
    "    #     inp = Input(shape=self.inputs)\n",
    "    #     self.block1(inp)"
   ]
  },
  {
   "cell_type": "code",
   "execution_count": 25,
   "metadata": {},
   "outputs": [
    {
     "name": "stdout",
     "output_type": "stream",
     "text": [
      "Model: \"model_2\"\n",
      "_________________________________________________________________\n",
      "Layer (type)                 Output Shape              Param #   \n",
      "=================================================================\n",
      "input_4 (InputLayer)         [(None, 28, 28, 1)]       0         \n",
      "_________________________________________________________________\n",
      "nin_block_3 (NinBlock)       (None, 14, 14, 16)        704       \n",
      "_________________________________________________________________\n",
      "nin_block_4 (NinBlock)       (None, 7, 7, 32)          6752      \n",
      "_________________________________________________________________\n",
      "nin_block_5 (NinBlock)       (None, 3, 3, 64)          26816     \n",
      "_________________________________________________________________\n",
      "conv2d_19 (Conv2D)           (None, 1, 1, 10)          5770      \n",
      "_________________________________________________________________\n",
      "global_average_pooling2d_1 ( (None, 10)                0         \n",
      "_________________________________________________________________\n",
      "dense_6 (Dense)              (None, 100)               1100      \n",
      "_________________________________________________________________\n",
      "dense_7 (Dense)              (None, 10)                1010      \n",
      "=================================================================\n",
      "Total params: 42,152\n",
      "Trainable params: 42,152\n",
      "Non-trainable params: 0\n",
      "_________________________________________________________________\n"
     ]
    }
   ],
   "source": [
    "model = NinMnist()\n",
    "# model.build([28, 28, 1])\n",
    "# X = np.random.uniform(size=(1, 28, 28, 1))\n",
    "# for layer in model.layers:\n",
    "#     X = layer(X)\n",
    "#     print(layer.name, 'output shape:\\t', X.shape)\n",
    "# model.summary()\n",
    "\n",
    "# print(model.output)\n",
    "# model = Sequential()\n",
    "# model.add(Input([28, 28, 1]))\n",
    "# model.add(NinBlock(16, 3, 1, \"same\"))\n",
    "# # model.add(NinBlock(32, 3, 1, \"same\"))\n",
    "# # model.add(NinBlock(64, 3, 1, \"same\"))\n",
    "# model.add(Conv2D(10, kernel_size=3))\n",
    "# model.add(GlobalAveragePooling2D())\n",
    "\n",
    "model.compile(loss=tf.keras.losses.SparseCategoricalCrossentropy(from_logits=True),\n",
    "              optimizer=\"adam\",\n",
    "              metrics=[\"accuracy\"])\n",
    "# model.build([None, 28, 28, 1])\n",
    "model.model().summary()"
   ]
  },
  {
   "cell_type": "code",
   "execution_count": 26,
   "metadata": {},
   "outputs": [
    {
     "name": "stdout",
     "output_type": "stream",
     "text": [
      "Epoch 1/3\n",
      "1875/1875 [==============================] - 82s 43ms/step - loss: 0.5531 - accuracy: 0.8065\n",
      "Epoch 2/3\n",
      "1875/1875 [==============================] - 81s 43ms/step - loss: 0.0776 - accuracy: 0.9756\n",
      "Epoch 3/3\n",
      "1875/1875 [==============================] - 83s 44ms/step - loss: 0.0563 - accuracy: 0.9825\n"
     ]
    },
    {
     "data": {
      "text/plain": [
       "<tensorflow.python.keras.callbacks.History at 0x234e6c963c8>"
      ]
     },
     "execution_count": 26,
     "metadata": {},
     "output_type": "execute_result"
    }
   ],
   "source": [
    "model.fit(x_train, y_train, epochs=3)"
   ]
  },
  {
   "cell_type": "code",
   "execution_count": 8,
   "metadata": {},
   "outputs": [
    {
     "data": {
      "text/plain": [
       "<matplotlib.image.AxesImage at 0x234e68ccd48>"
      ]
     },
     "execution_count": 8,
     "metadata": {},
     "output_type": "execute_result"
    },
    {
     "data": {
      "image/png": "[encoded data removed]",
      "text/plain": [
       "<Figure size 432x288 with 1 Axes>"
      ]
     },
     "metadata": {
      "needs_background": "light"
     },
     "output_type": "display_data"
    }
   ],
   "source": [
    "plt.imshow(x_train[0].reshape(28,28))"
   ]
  },
  {
   "cell_type": "code",
   "execution_count": 9,
   "metadata": {},
   "outputs": [],
   "source": [
    "img = x_train[1].reshape(28,28).copy()"
   ]
  },
  {
   "cell_type": "code",
   "execution_count": 10,
   "metadata": {},
   "outputs": [],
   "source": [
    "resized = cv2.resize(img, dsize=(56, 56), interpolation=cv2.INTER_CUBIC)"
   ]
  },
  {
   "cell_type": "code",
   "execution_count": 11,
   "metadata": {},
   "outputs": [
    {
     "data": {
      "text/plain": [
       "<matplotlib.image.AxesImage at 0x234e69874c8>"
      ]
     },
     "execution_count": 11,
     "metadata": {},
     "output_type": "execute_result"
    },
    {
     "data": {
      "image/png": "[encoded data removed]",
      "text/plain": [
       "<Figure size 432x288 with 1 Axes>"
      ]
     },
     "metadata": {
      "needs_background": "light"
     },
     "output_type": "display_data"
    }
   ],
   "source": [
    "plt.imshow(resized)"
   ]
  },
  {
   "cell_type": "code",
   "execution_count": 12,
   "metadata": {},
   "outputs": [
    {
     "data": {
      "text/plain": [
       "<tf.Tensor: shape=(1, 10), dtype=float32, numpy=\n",
       "array([[-2.9257307 ,  2.0133605 , -1.8579917 , -2.6004543 , -4.0973496 ,\n",
       "        -3.6732726 , -2.7614985 , -0.69313836, -2.991588  , -3.3267787 ]],\n",
       "      dtype=float32)>"
      ]
     },
     "execution_count": 12,
     "metadata": {},
     "output_type": "execute_result"
    }
   ],
   "source": [
    "model(resized.reshape(1, 56, 56, 1))"
   ]
  },
  {
   "cell_type": "code",
   "execution_count": 13,
   "metadata": {},
   "outputs": [],
   "source": [
    "x_train2 = np.array([cv2.resize(img, dsize=(56, 56), interpolation=cv2.INTER_CUBIC) for img in x_train[:30000]])"
   ]
  },
  {
   "cell_type": "code",
   "execution_count": 14,
   "metadata": {},
   "outputs": [],
   "source": [
    "x_train2 = x_train2.reshape(-1, 56, 56, 1)"
   ]
  },
  {
   "cell_type": "code",
   "execution_count": 33,
   "metadata": {},
   "outputs": [],
   "source": [
    "model.trainable = False"
   ]
  },
  {
   "cell_type": "code",
   "execution_count": 36,
   "metadata": {},
   "outputs": [],
   "source": [
    "inp = Input([56, 56, 1])\n",
    "x = inp\n",
    "for layer in model.layers[:-2]:\n",
    "    layer.trainable = False\n",
    "    x = layer(x)\n",
    "# x = model.layers[:-2](inp)\n",
    "x = Dense(100, activation=\"relu\")(x)\n",
    "x = Dense(100, activation=\"relu\")(x)\n",
    "out = Dense(10, activation=\"softmax\")(x)\n",
    "model2 = Model(inputs=inp, outputs=out)"
   ]
  },
  {
   "cell_type": "code",
   "execution_count": 37,
   "metadata": {},
   "outputs": [
    {
     "data": {
      "text/plain": [
       "(<KerasTensor: shape=(None, 56, 56, 1) dtype=float32 (created by layer 'input_7')>,\n",
       " <KerasTensor: shape=(None, 10) dtype=float32 (created by layer 'dense_10')>)"
      ]
     },
     "execution_count": 37,
     "metadata": {},
     "output_type": "execute_result"
    }
   ],
   "source": [
    "model2.input, model2.output"
   ]
  },
  {
   "cell_type": "code",
   "execution_count": 38,
   "metadata": {},
   "outputs": [
    {
     "data": {
      "text/plain": [
       "<tf.Tensor: shape=(1, 10), dtype=float32, numpy=\n",
       "array([[0.06669419, 0.06824775, 0.10636904, 0.16754939, 0.13861498,\n",
       "        0.12150908, 0.03880468, 0.0939911 , 0.15656966, 0.04165015]],\n",
       "      dtype=float32)>"
      ]
     },
     "execution_count": 38,
     "metadata": {},
     "output_type": "execute_result"
    }
   ],
   "source": [
    "model2(resized.reshape(1, 56, 56, 1))"
   ]
  },
  {
   "cell_type": "code",
   "execution_count": 39,
   "metadata": {},
   "outputs": [],
   "source": [
    "model2.compile(loss=tf.keras.losses.SparseCategoricalCrossentropy(from_logits=True),\n",
    "              optimizer=\"adam\",\n",
    "              metrics=[\"accuracy\"])"
   ]
  },
  {
   "cell_type": "code",
   "execution_count": 40,
   "metadata": {},
   "outputs": [
    {
     "name": "stdout",
     "output_type": "stream",
     "text": [
      "Epoch 1/3\n",
      "938/938 [==============================] - 43s 45ms/step - loss: 1.3342 - accuracy: 0.5382\n",
      "Epoch 2/3\n",
      "938/938 [==============================] - 42s 45ms/step - loss: 0.7702 - accuracy: 0.7331\n",
      "Epoch 3/3\n",
      "938/938 [==============================] - 45s 48ms/step - loss: 0.6927 - accuracy: 0.7571\n"
     ]
    },
    {
     "data": {
      "text/plain": [
       "<tensorflow.python.keras.callbacks.History at 0x234e6e3d0c8>"
      ]
     },
     "execution_count": 40,
     "metadata": {},
     "output_type": "execute_result"
    }
   ],
   "source": [
    "model2.fit(x_train2, y_train[:30000], epochs = 3)"
   ]
  },
  {
   "cell_type": "code",
   "execution_count": 23,
   "metadata": {},
   "outputs": [
    {
     "name": "stdout",
     "output_type": "stream",
     "text": [
      "Model: \"model_1\"\n",
      "_________________________________________________________________\n",
      "Layer (type)                 Output Shape              Param #   \n",
      "=================================================================\n",
      "input_3 (InputLayer)         [(None, 56, 56, 1)]       0         \n",
      "_________________________________________________________________\n",
      "nin_mnist (NinMnist)         (None, 10)                40042     \n",
      "_________________________________________________________________\n",
      "dense_3 (Dense)              (None, 100)               1100      \n",
      "_________________________________________________________________\n",
      "dense_4 (Dense)              (None, 100)               10100     \n",
      "_________________________________________________________________\n",
      "dense_5 (Dense)              (None, 10)                1010      \n",
      "=================================================================\n",
      "Total params: 52,252\n",
      "Trainable params: 12,210\n",
      "Non-trainable params: 40,042\n",
      "_________________________________________________________________\n"
     ]
    }
   ],
   "source": [
    "model2.summary()"
   ]
  },
  {
   "cell_type": "code",
   "execution_count": 41,
   "metadata": {},
   "outputs": [],
   "source": [
    "x_test2 = np.array([cv2.resize(img, dsize=(56, 56), interpolation=cv2.INTER_CUBIC) for img in x_test])\n",
    "x_test2 = x_test2.reshape(-1, 56, 56, 1)"
   ]
  },
  {
   "cell_type": "code",
   "execution_count": 42,
   "metadata": {},
   "outputs": [
    {
     "name": "stdout",
     "output_type": "stream",
     "text": [
      "79/79 [==============================] - 12s 140ms/step - loss: 863.7365 - accuracy: 0.3143\n"
     ]
    },
    {
     "data": {
      "text/plain": [
       "[863.7365112304688, 0.314300000667572]"
      ]
     },
     "execution_count": 42,
     "metadata": {},
     "output_type": "execute_result"
    }
   ],
   "source": [
    "model2.evaluate(x_test2, y_test, batch_size=128)"
   ]
  },
  {
   "cell_type": "code",
   "execution_count": null,
   "metadata": {},
   "outputs": [],
   "source": [
    "from tensorflow.keras.applications.vgg16 import VGG16"
   ]
  },
  {
   "cell_type": "code",
   "execution_count": null,
   "metadata": {},
   "outputs": [],
   "source": [
    "vgg = VGG16(include_top=True)"
   ]
  },
  {
   "cell_type": "code",
   "execution_count": null,
   "metadata": {},
   "outputs": [],
   "source": [
    "vgg.summary()"
   ]
  },
  {
   "cell_type": "code",
   "execution_count": null,
   "metadata": {},
   "outputs": [],
   "source": []
  }
 ],
 "metadata": {
  "kernelspec": {
   "display_name": "Python 3",
   "language": "python",
   "name": "python3"
  },
  "language_info": {
   "codemirror_mode": {
    "name": "ipython",
    "version": 3
   },
   "file_extension": ".py",
   "mimetype": "text/x-python",
   "name": "python",
   "nbconvert_exporter": "python",
   "pygments_lexer": "ipython3",
   "version": "3.7.4"
  }
 },
 "nbformat": 4,
 "nbformat_minor": 4
}
