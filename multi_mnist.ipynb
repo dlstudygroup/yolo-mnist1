{
  "nbformat": 4,
  "nbformat_minor": 0,
  "metadata": {
    "colab": {
      "name": "multi_mnist.ipynb",
      "provenance": []
    },
    "kernelspec": {
      "name": "python3",
      "display_name": "Python 3"
    }
  },
  "cells": [
    {
      "cell_type": "code",
      "metadata": {
        "id": "4t8ihj3jsy9s"
      },
      "source": [
        "import numpy as np\r\n",
        "import pandas as pd\r\n",
        "import matplotlib.pyplot as plt\r\n",
        "import matplotlib\r\n",
        "%matplotlib inline\r\n",
        "import random\r\n",
        "from tqdm import tqdm\r\n",
        "\r\n",
        "import tensorflow as tf\r\n",
        "from tensorflow.keras.datasets.mnist import load_data"
      ],
      "execution_count": null,
      "outputs": []
    },
    {
      "cell_type": "code",
      "metadata": {
        "id": "6mIxLr0btOAG",
        "colab": {
          "base_uri": "https://localhost:8080/"
        },
        "outputId": "6fffe0cf-3822-4acd-b09f-e0a2924dd03f"
      },
      "source": [
        "(x_train, y_train), (x_test, y_test) = load_data()"
      ],
      "execution_count": null,
      "outputs": [
        {
          "output_type": "stream",
          "text": [
            "Downloading data from https://storage.googleapis.com/tensorflow/tf-keras-datasets/mnist.npz\n",
            "11493376/11490434 [==============================] - 0s 0us/step\n"
          ],
          "name": "stdout"
        }
      ]
    },
    {
      "cell_type": "code",
      "metadata": {
        "id": "bytUNCj9ucpq"
      },
      "source": [
        "height, width = 128, 128"
      ],
      "execution_count": null,
      "outputs": []
    },
    {
      "cell_type": "code",
      "metadata": {
        "colab": {
          "base_uri": "https://localhost:8080/",
          "height": 304
        },
        "id": "qwzdjdp6t1wN",
        "outputId": "b6fb5f38-a8c4-4774-d7a5-cea2cd240105"
      },
      "source": [
        "def make_img(x_array, y_array, height, width):\r\n",
        "  new_img = np.zeros([height, width])\r\n",
        "  mask = np.zeros([height, width])\r\n",
        "  old_height = x_array.shape[1]\r\n",
        "  old_width = x_array.shape[2]\r\n",
        "  all_num = 2\r\n",
        "  num = 0\r\n",
        "  labels = []\r\n",
        "  shifts = []\r\n",
        "  while num < all_num:\r\n",
        "    x_shift = random.randint(0, width-old_width)\r\n",
        "    y_shift = random.randint(0, width-old_height)\r\n",
        "    idx = random.randint(0, x_array.shape[0]-1)\r\n",
        "    if (mask[y_shift: y_shift+old_height, x_shift: x_shift+old_height]==0).all():\r\n",
        "      new_img[y_shift: y_shift+old_height, x_shift: x_shift+old_height] = x_array[idx]\r\n",
        "      mask[y_shift: y_shift+old_height, x_shift: x_shift+old_height] = 1\r\n",
        "      labels.append(y_array[idx])\r\n",
        "      shifts.append((x_shift, y_shift, 28, 28))\r\n",
        "      num +=1\r\n",
        "  return new_img, labels, shifts\r\n",
        "\r\n",
        "s = make_img(x_train, y_train, height, width)\r\n",
        "plt.imshow(s[0])\r\n",
        "print(s[1])\r\n",
        "print(s[2])\r\n",
        "#plt.gca().add_patch(matplotlib.patches.Rectangle((s[2][0]),28,28, ec='r', fc='none'))"
      ],
      "execution_count": null,
      "outputs": [
        {
          "output_type": "stream",
          "text": [
            "[8, 6]\n",
            "[(58, 20, 28, 28), (16, 57, 28, 28)]\n"
          ],
          "name": "stdout"
        },
        {
          "output_type": "display_data",
          "data": {
            "image/png": "[encoded data removed]",
            "text/plain": [
              "<Figure size 432x288 with 1 Axes>"
            ]
          },
          "metadata": {
            "tags": [],
            "needs_background": "light"
          }
        }
      ]
    },
    {
      "cell_type": "code",
      "metadata": {
        "id": "ObD2ty4xJjmu",
        "colab": {
          "base_uri": "https://localhost:8080/"
        },
        "outputId": "5fab2a66-51fb-463e-9497-95bef184af1c"
      },
      "source": [
        "imgs = []\r\n",
        "labels = []\r\n",
        "for i in tqdm(range(40000)):\r\n",
        "  sample = make_img(x_train, y_train, height, width)\r\n",
        "  imgs.append(sample[0])\r\n",
        "  labels.append(sample[2])"
      ],
      "execution_count": null,
      "outputs": [
        {
          "output_type": "stream",
          "text": [
            "100%|██████████| 40000/40000 [00:04<00:00, 8125.53it/s]\n"
          ],
          "name": "stderr"
        }
      ]
    },
    {
      "cell_type": "code",
      "metadata": {
        "colab": {
          "base_uri": "https://localhost:8080/"
        },
        "id": "q1oUX79FBoaE",
        "outputId": "7bc1e02e-7fc3-4a28-a584-8ae222c3d856"
      },
      "source": [
        "#height, width = 128, 128\r\n",
        "print(((size+2*padding)+stride*10))\r\n",
        "big_padding = 4\r\n",
        "stride = 10\r\n",
        "size = 28\r\n",
        "padding = 4\r\n",
        "#chcemy powiększyć okno o padding i odjąć rozmiar okna\r\n",
        "n_rows = (height-size-(2*padding))/stride\r\n",
        "n_cols = (width-size-(2*padding))/stride"
      ],
      "execution_count": null,
      "outputs": [
        {
          "output_type": "stream",
          "text": [
            "136\n"
          ],
          "name": "stdout"
        }
      ]
    },
    {
      "cell_type": "code",
      "metadata": {
        "id": "aLInnGToT7JQ"
      },
      "source": [
        "h = size/2+padding+stride*row\r\n",
        "w = size/2+padding+stride*column\r\n",
        "def kardashian_dist(labels, h, w):\r\n",
        "    "
      ],
      "execution_count": null,
      "outputs": []
    },
    {
      "cell_type": "code",
      "metadata": {
        "id": "vvBqRdwHBD-3"
      },
      "source": [
        "def step(X, y):\r\n",
        "    for row in range(n_rows):\r\n",
        "        for column in range(n_cols):\r\n",
        "            h = size/2+padding+stride*row\r\n",
        "            w = size/2+padding+stride*column\r\n",
        "            \r\n",
        "            with tf.GradientTape() as tape:\r\n",
        "\r\n",
        "                pred = model(X)[0]\r\n",
        "                loss = cat_loss(y, pred)\r\n",
        "                if \r\n",
        "\r\n",
        "                grads = tape.gradient(loss, model.trainable_variables)\r\n",
        "                opt.apply_gradients(zip(grads, model.trainable_variables))"
      ],
      "execution_count": null,
      "outputs": []
    },
    {
      "cell_type": "markdown",
      "metadata": {
        "id": "6acs4BNjMPOe"
      },
      "source": [
        "#kiedy jest cyfra\r\n",
        "    cyfry powinny być posortowane\r\n",
        "    jeśli współrzędne są w kwadracie dodaj właściwy label\r\n",
        "    predykcja confidence\r\n",
        "    strata dla regresji powinna być mała\r\n",
        "    klasyfikacja\r\n",
        "\r\n",
        "\r\n",
        "#kiedy nie ma cyfry\r\n",
        "    współrzędne nie są w kwadracie dodaj random label\r\n",
        "    predykcja confidence\r\n",
        "    nie liczymy straty regresji i klasyfikacji"
      ]
    },
    {
      "cell_type": "code",
      "metadata": {
        "id": "Ro0TnnJgLaP8"
      },
      "source": [
        ""
      ],
      "execution_count": null,
      "outputs": []
    },
    {
      "cell_type": "code",
      "metadata": {
        "id": "d9tUptPmKpH9"
      },
      "source": [
        "imgs = np.array(imgs)\r\n",
        "labels = np.array(labels)"
      ],
      "execution_count": null,
      "outputs": []
    },
    {
      "cell_type": "code",
      "metadata": {
        "id": "pTDerWf0ZN-t"
      },
      "source": [
        "imgs = imgs/255"
      ],
      "execution_count": null,
      "outputs": []
    },
    {
      "cell_type": "code",
      "metadata": {
        "id": "K6lmVOCdaQpg"
      },
      "source": [
        "labels = labels.reshape(40000, -1)"
      ],
      "execution_count": null,
      "outputs": []
    },
    {
      "cell_type": "code",
      "metadata": {
        "id": "1UuIVDxzaFa1"
      },
      "source": [
        "imgs = imgs.reshape(40000,96,96,1)"
      ],
      "execution_count": null,
      "outputs": []
    },
    {
      "cell_type": "code",
      "metadata": {
        "colab": {
          "base_uri": "https://localhost:8080/"
        },
        "id": "7RYQDRGSafse",
        "outputId": "24bb4c32-c74f-412f-b4f5-cca003aa3507"
      },
      "source": [
        "labels.shape"
      ],
      "execution_count": null,
      "outputs": [
        {
          "output_type": "execute_result",
          "data": {
            "text/plain": [
              "(40000, 8)"
            ]
          },
          "metadata": {
            "tags": []
          },
          "execution_count": 10
        }
      ]
    },
    {
      "cell_type": "code",
      "metadata": {
        "id": "EjgshBKB49ea"
      },
      "source": [
        "from tensorflow.keras.models import Model\r\n",
        "from tensorflow.keras.layers import Input, Dense, Activation, Dropout, Conv2D, MaxPooling2D, Flatten\r\n",
        "\r\n",
        "inp = Input([96,96,1])\r\n",
        "x = inp\r\n",
        "x = Conv2D(16, 3, padding='same', activation='relu')(x)\r\n",
        "x = MaxPooling2D()(x)\r\n",
        "x = Conv2D(32, 3, padding='same', activation='relu')(x)\r\n",
        "x = MaxPooling2D()(x)\r\n",
        "x = Conv2D(64, 3, padding='same', activation='relu')(x)\r\n",
        "x = MaxPooling2D()(x)\r\n",
        "x = Conv2D(128, 3, padding='same', activation='relu')(x)\r\n",
        "x = Dropout(0.4)(x)\r\n",
        "x = Flatten()(x)\r\n",
        "x = Dense(64, activation='relu')(x)\r\n",
        "out = Dense(8, activation=\"linear\")(x)\r\n",
        "\r\n",
        "model = Model(inputs=inp, outputs=out)\r\n",
        "\r\n",
        "model.compile(optimizer='adam', loss='mse')"
      ],
      "execution_count": null,
      "outputs": []
    },
    {
      "cell_type": "code",
      "metadata": {
        "colab": {
          "base_uri": "https://localhost:8080/"
        },
        "id": "bRNxUkLonjK6",
        "outputId": "6118ab51-0e1e-4c06-be14-ae8016c2c725"
      },
      "source": [
        "model.summary()"
      ],
      "execution_count": null,
      "outputs": [
        {
          "output_type": "stream",
          "text": [
            "Model: \"model\"\n",
            "_________________________________________________________________\n",
            "Layer (type)                 Output Shape              Param #   \n",
            "=================================================================\n",
            "input_1 (InputLayer)         [(None, 96, 96, 1)]       0         \n",
            "_________________________________________________________________\n",
            "conv2d (Conv2D)              (None, 96, 96, 16)        160       \n",
            "_________________________________________________________________\n",
            "max_pooling2d (MaxPooling2D) (None, 48, 48, 16)        0         \n",
            "_________________________________________________________________\n",
            "conv2d_1 (Conv2D)            (None, 48, 48, 32)        4640      \n",
            "_________________________________________________________________\n",
            "max_pooling2d_1 (MaxPooling2 (None, 24, 24, 32)        0         \n",
            "_________________________________________________________________\n",
            "conv2d_2 (Conv2D)            (None, 24, 24, 64)        18496     \n",
            "_________________________________________________________________\n",
            "max_pooling2d_2 (MaxPooling2 (None, 12, 12, 64)        0         \n",
            "_________________________________________________________________\n",
            "conv2d_3 (Conv2D)            (None, 12, 12, 128)       73856     \n",
            "_________________________________________________________________\n",
            "dropout (Dropout)            (None, 12, 12, 128)       0         \n",
            "_________________________________________________________________\n",
            "flatten (Flatten)            (None, 18432)             0         \n",
            "_________________________________________________________________\n",
            "dense (Dense)                (None, 64)                1179712   \n",
            "_________________________________________________________________\n",
            "dense_1 (Dense)              (None, 8)                 520       \n",
            "=================================================================\n",
            "Total params: 1,277,384\n",
            "Trainable params: 1,277,384\n",
            "Non-trainable params: 0\n",
            "_________________________________________________________________\n"
          ],
          "name": "stdout"
        }
      ]
    },
    {
      "cell_type": "code",
      "metadata": {
        "id": "KgWeNTNQI0f4"
      },
      "source": [
        "#model.fit(imgs, labels, epochs=5, batch_size=64)"
      ],
      "execution_count": null,
      "outputs": []
    },
    {
      "cell_type": "code",
      "metadata": {
        "id": "zc5faxktqjiE",
        "colab": {
          "base_uri": "https://localhost:8080/"
        },
        "outputId": "2fcdc63c-255e-4c06-865a-996074c87b56"
      },
      "source": [
        "model.predict(imgs[1].reshape(1,96,96,1))"
      ],
      "execution_count": null,
      "outputs": [
        {
          "output_type": "execute_result",
          "data": {
            "text/plain": [
              "array([[-0.01725834,  0.00448811,  0.01047117, -0.03446294, -0.0052368 ,\n",
              "         0.01385983, -0.02138148, -0.01389986]], dtype=float32)"
            ]
          },
          "metadata": {
            "tags": []
          },
          "execution_count": 14
        }
      ]
    },
    {
      "cell_type": "code",
      "metadata": {
        "colab": {
          "base_uri": "https://localhost:8080/"
        },
        "id": "XBoCO4JJznvz",
        "outputId": "8704dabd-fd22-4559-eb49-b5dabd2158b8"
      },
      "source": [
        "labels[1]"
      ],
      "execution_count": null,
      "outputs": [
        {
          "output_type": "execute_result",
          "data": {
            "text/plain": [
              "array([47,  8, 28, 28, 12, 18, 28, 28])"
            ]
          },
          "metadata": {
            "tags": []
          },
          "execution_count": 15
        }
      ]
    },
    {
      "cell_type": "code",
      "metadata": {
        "id": "fC4LQFHkzt9P"
      },
      "source": [
        ""
      ],
      "execution_count": null,
      "outputs": []
    }
  ]
}