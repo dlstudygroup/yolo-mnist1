{
 "cells": [
  {
   "cell_type": "code",
   "execution_count": 1,
   "metadata": {
    "id": "4t8ihj3jsy9s"
   },
   "outputs": [],
   "source": [
    "import numpy as np\n",
    "import pandas as pd\n",
    "import matplotlib.pyplot as plt\n",
    "import matplotlib\n",
    "%matplotlib inline\n",
    "import random\n",
    "from tqdm import tqdm\n",
    "\n",
    "import tensorflow as tf\n",
    "from tensorflow.keras.datasets.mnist import load_data"
   ]
  },
  {
   "cell_type": "code",
   "execution_count": 2,
   "metadata": {
    "colab": {
     "base_uri": "https://localhost:8080/"
    },
    "id": "6mIxLr0btOAG",
    "outputId": "6fffe0cf-3822-4acd-b09f-e0a2924dd03f"
   },
   "outputs": [],
   "source": [
    "(x_train, y_train), (x_test, y_test) = load_data() "
   ]
  },
  {
   "cell_type": "code",
   "execution_count": 3,
   "metadata": {
    "id": "bytUNCj9ucpq"
   },
   "outputs": [],
   "source": [
    "height, width = 128, 128  "
   ]
  },
  {
   "cell_type": "code",
   "execution_count": 11,
   "metadata": {
    "colab": {
     "base_uri": "https://localhost:8080/",
     "height": 304
    },
    "id": "qwzdjdp6t1wN",
    "outputId": "b6fb5f38-a8c4-4774-d7a5-cea2cd240105"
   },
   "outputs": [
    {
     "name": "stdout",
     "output_type": "stream",
     "text": [
      "[]\n",
      "[(3, 47, 12, 28, 28), (7, 80, 55, 28, 28)]\n"
     ]
    },
    {
     "data": {
      "image/png": "[encoded data removed]",
      "text/plain": [
       "<Figure size 432x288 with 1 Axes>"
      ]
     },
     "metadata": {
      "needs_background": "light"
     },
     "output_type": "display_data"
    }
   ],
   "source": [
    "def make_img(x_array, y_array, height, width):\n",
    "  new_img = np.zeros([height, width])\n",
    "  mask = np.zeros([height, width])\n",
    "  old_height = x_array.shape[1]\n",
    "  old_width = x_array.shape[2]\n",
    "  all_num = 2\n",
    "  num = 0\n",
    "  labels = []\n",
    "  shifts = []\n",
    "  while num < all_num:\n",
    "    x_shift = random.randint(0, width-old_width)\n",
    "    y_shift = random.randint(0, width-old_height)\n",
    "    idx = random.randint(0, x_array.shape[0]-1)\n",
    "    if (mask[y_shift: y_shift+old_height, x_shift: x_shift+old_height]==0).all():\n",
    "      new_img[y_shift: y_shift+old_height, x_shift: x_shift+old_height] = x_array[idx]\n",
    "      mask[y_shift: y_shift+old_height, x_shift: x_shift+old_height] = 1\n",
    "#       labels.append(y_array[idx])\n",
    "      shifts.append((y_array[idx], x_shift, y_shift, 28, 28))\n",
    "      num +=1\n",
    "  return new_img, labels, shifts\n",
    "\n",
    "s = make_img(x_train, y_train, height, width)\n",
    "plt.imshow(s[0])\n",
    "print(s[1])\n",
    "print(s[2])\n",
    "#plt.gca().add_patch(matplotlib.patches.Rectangle((s[2][0]),28,28, ec='r', fc='none'))"
   ]
  },
  {
   "cell_type": "code",
   "execution_count": 13,
   "metadata": {
    "colab": {
     "base_uri": "https://localhost:8080/"
    },
    "id": "ObD2ty4xJjmu",
    "outputId": "5fab2a66-51fb-463e-9497-95bef184af1c"
   },
   "outputs": [
    {
     "name": "stderr",
     "output_type": "stream",
     "text": [
      "100%|██████████████████████████████████████████████████████████████████████████| 40000/40000 [00:13<00:00, 2935.29it/s]\n"
     ]
    }
   ],
   "source": [
    "imgs = []\n",
    "labels = []\n",
    "for i in tqdm(range(40000)):\n",
    "    sample = make_img(x_train, y_train, height, width)\n",
    "    imgs.append(sample[0])\n",
    "    labels.append(sample[2])"
   ]
  },
  {
   "cell_type": "code",
   "execution_count": 14,
   "metadata": {
    "colab": {
     "base_uri": "https://localhost:8080/"
    },
    "id": "q1oUX79FBoaE",
    "outputId": "7bc1e02e-7fc3-4a28-a584-8ae222c3d856"
   },
   "outputs": [
    {
     "data": {
      "text/plain": [
       "[(3, 22, 31, 28, 28), (9, 81, 46, 28, 28)]"
      ]
     },
     "execution_count": 14,
     "metadata": {},
     "output_type": "execute_result"
    }
   ],
   "source": [
    "labels[0]"
   ]
  },
  {
   "cell_type": "code",
   "execution_count": 7,
   "metadata": {
    "colab": {
     "base_uri": "https://localhost:8080/"
    },
    "id": "q1oUX79FBoaE",
    "outputId": "7bc1e02e-7fc3-4a28-a584-8ae222c3d856"
   },
   "outputs": [
    {
     "name": "stdout",
     "output_type": "stream",
     "text": [
      "136\n"
     ]
    }
   ],
   "source": [
    "#height, width = 128, 128\n",
    "big_padding = 4\n",
    "stride = 10\n",
    "size = 28\n",
    "padding = 4\n",
    "#chcemy powiększyć okno o padding i odjąć rozmiar okna\n",
    "n_rows = (height-size-(2*padding))/stride\n",
    "n_cols = (width-size-(2*padding))/stride\n",
    "print(((size+2*padding)+stride*10))"
   ]
  },
  {
   "cell_type": "code",
   "execution_count": 15,
   "metadata": {
    "id": "aLInnGToT7JQ"
   },
   "outputs": [],
   "source": [
    "from math import sqrt"
   ]
  },
  {
   "cell_type": "code",
   "execution_count": 19,
   "metadata": {
    "id": "aLInnGToT7JQ"
   },
   "outputs": [],
   "source": [
    "row, column = (0, 0)\n",
    "h = size/2+padding+stride*row\n",
    "w = size/2+padding+stride*column\n",
    "def kardashian_dist(labels, h, w):\n",
    "    # 1. get coords\n",
    "    # 2. count distance\n",
    "    # 3. return smallest distance\n",
    "    distances = []\n",
    "    # example labels:\n",
    "    # [(3, 22, 31, 28, 28), (9, 81, 46, 28, 28)]\n",
    "    for i, label in enumerate(labels):\n",
    "        x = label[1]\n",
    "        y = label[2]\n",
    "        # a^2 + b^2 = c^2\n",
    "        # c = sqrt(a^2 + b^2)\n",
    "        distance = sqrt((h - y)**2 + (w - x)**2)\n",
    "        distances.append((i, distance))\n",
    "    return distances"
   ]
  },
  {
   "cell_type": "code",
   "execution_count": 20,
   "metadata": {
    "id": "vvBqRdwHBD-3"
   },
   "outputs": [
    {
     "data": {
      "text/plain": [
       "[(0, 13.601470508735444), (1, 68.94200461257273)]"
      ]
     },
     "execution_count": 20,
     "metadata": {},
     "output_type": "execute_result"
    }
   ],
   "source": [
    "kardashian_dist(labels[0], h, w)"
   ]
  },
  {
   "cell_type": "code",
   "execution_count": 22,
   "metadata": {
    "id": "vvBqRdwHBD-3"
   },
   "outputs": [
    {
     "data": {
      "text/plain": [
       "25.45584412271571"
      ]
     },
     "execution_count": 22,
     "metadata": {},
     "output_type": "execute_result"
    }
   ],
   "source": [
    "sqrt(18**2 + 18**2)\n",
    "# ustawiamy na 20 pixeli"
   ]
  },
  {
   "cell_type": "code",
   "execution_count": 21,
   "metadata": {
    "id": "vvBqRdwHBD-3"
   },
   "outputs": [
    {
     "data": {
      "text/plain": [
       "[(3, 22, 31, 28, 28), (9, 81, 46, 28, 28)]"
      ]
     },
     "execution_count": 21,
     "metadata": {},
     "output_type": "execute_result"
    },
    {
     "data": {
      "image/png": "[encoded data removed]",
      "text/plain": [
       "<Figure size 432x288 with 1 Axes>"
      ]
     },
     "metadata": {
      "needs_background": "light"
     },
     "output_type": "display_data"
    }
   ],
   "source": [
    "plt.imshow(imgs[0])\n",
    "labels[0]"
   ]
  },
  {
   "cell_type": "code",
   "execution_count": null,
   "metadata": {
    "id": "vvBqRdwHBD-3"
   },
   "outputs": [],
   "source": [
    "# clfs, confidence, reg\n",
    "\n",
    "def step(X, y):\n",
    "    for row in range(n_rows):\n",
    "        for column in range(n_cols):\n",
    "            h = size/2+padding+stride*row\n",
    "            w = size/2+padding+stride*column\n",
    "            kardashian_dist(y, h, w)\n",
    "            with tf.GradientTape() as tape:\n",
    "                pred = model(X)[0]\n",
    "                loss = cat_loss(y, pred)\n",
    "                if \n",
    "\n",
    "                grads = tape.gradient(loss, model.trainable_variables)\n",
    "                opt.apply_gradients(zip(grads, model.trainable_variables))"
   ]
  },
  {
   "cell_type": "markdown",
   "metadata": {
    "id": "6acs4BNjMPOe"
   },
   "source": [
    "# kiedy jest cyfra\n",
    "    cyfry powinny być posortowane\n",
    "    jeśli współrzędne są w kwadracie dodaj właściwy label\n",
    "    predykcja confidence\n",
    "    strata dla regresji powinna być mała\n",
    "    klasyfikacja\n",
    "\n",
    "\n",
    "# kiedy nie ma cyfry\n",
    "    współrzędne nie są w kwadracie dodaj random label\n",
    "    predykcja confidence\n",
    "    nie liczymy straty regresji i klasyfikacji"
   ]
  },
  {
   "cell_type": "code",
   "execution_count": null,
   "metadata": {
    "id": "Ro0TnnJgLaP8"
   },
   "outputs": [],
   "source": []
  },
  {
   "cell_type": "code",
   "execution_count": null,
   "metadata": {
    "id": "d9tUptPmKpH9"
   },
   "outputs": [],
   "source": [
    "imgs = np.array(imgs)\n",
    "labels = np.array(labels)"
   ]
  },
  {
   "cell_type": "code",
   "execution_count": null,
   "metadata": {
    "id": "pTDerWf0ZN-t"
   },
   "outputs": [],
   "source": [
    "imgs = imgs/255"
   ]
  },
  {
   "cell_type": "code",
   "execution_count": null,
   "metadata": {
    "id": "K6lmVOCdaQpg"
   },
   "outputs": [],
   "source": [
    "labels = labels.reshape(40000, -1)"
   ]
  },
  {
   "cell_type": "code",
   "execution_count": null,
   "metadata": {
    "id": "1UuIVDxzaFa1"
   },
   "outputs": [],
   "source": [
    "imgs = imgs.reshape(40000,96,96,1)"
   ]
  },
  {
   "cell_type": "code",
   "execution_count": null,
   "metadata": {
    "colab": {
     "base_uri": "https://localhost:8080/"
    },
    "id": "7RYQDRGSafse",
    "outputId": "24bb4c32-c74f-412f-b4f5-cca003aa3507"
   },
   "outputs": [
    {
     "data": {
      "text/plain": [
       "(40000, 8)"
      ]
     },
     "execution_count": 10,
     "metadata": {
      "tags": []
     },
     "output_type": "execute_result"
    }
   ],
   "source": [
    "labels.shape"
   ]
  },
  {
   "cell_type": "code",
   "execution_count": 27,
   "metadata": {
    "id": "EjgshBKB49ea"
   },
   "outputs": [],
   "source": [
    "from tensorflow.keras.models import Model\n",
    "from tensorflow.keras.layers import Input, Dense, Activation, Dropout, Conv2D, MaxPooling2D, Flatten\n",
    "\n",
    "inp = Input([36,36,1])\n",
    "x = inp\n",
    "x = Conv2D(16, 3, padding='same', activation='relu')(x)\n",
    "x = MaxPooling2D()(x)\n",
    "x = Conv2D(32, 3, padding='same', activation='relu')(x)\n",
    "x = MaxPooling2D()(x)\n",
    "x = Conv2D(64, 3, padding='same', activation='relu')(x)\n",
    "x = MaxPooling2D()(x)\n",
    "x = Conv2D(128, 3, padding='same', activation='relu')(x)\n",
    "# x = Dropout(0.4)(x)\n",
    "x = Flatten()(x)\n",
    "x = Dense(128, activation='relu')(x)\n",
    "x = Dropout(0.4)(x)\n",
    "x = Dense(128, activation='relu')(x)\n",
    "x = Dropout(0.4)(x)\n",
    "clfs = Dense(10, activation=\"softmax\")(x)\n",
    "confidence = Dense(2, activation=\"softmax\")(x)\n",
    "reg = Dense(4, activation=\"softmax\")(x)\n",
    "\n",
    "model = Model(inputs=inp, outputs=[clfs, confidence, reg])"
   ]
  },
  {
   "cell_type": "code",
   "execution_count": 24,
   "metadata": {
    "id": "EjgshBKB49ea"
   },
   "outputs": [],
   "source": [
    "from tensorflow.keras.losses import SparseCategoricalCrossentropy"
   ]
  },
  {
   "cell_type": "code",
   "execution_count": 25,
   "metadata": {
    "id": "EjgshBKB49ea"
   },
   "outputs": [],
   "source": [
    "model.compile(optimizer='adam', loss=[SparseCategoricalCrossentropy(from_logits=True),\n",
    "                                      \"binary_crossentropy\",\n",
    "                                      'mse'])"
   ]
  },
  {
   "cell_type": "code",
   "execution_count": 26,
   "metadata": {
    "colab": {
     "base_uri": "https://localhost:8080/"
    },
    "id": "bRNxUkLonjK6",
    "outputId": "6118ab51-0e1e-4c06-be14-ae8016c2c725"
   },
   "outputs": [
    {
     "name": "stdout",
     "output_type": "stream",
     "text": [
      "Model: \"model\"\n",
      "__________________________________________________________________________________________________\n",
      "Layer (type)                    Output Shape         Param #     Connected to                     \n",
      "==================================================================================================\n",
      "input_1 (InputLayer)            [(None, 36, 36, 1)]  0                                            \n",
      "__________________________________________________________________________________________________\n",
      "conv2d (Conv2D)                 (None, 36, 36, 16)   160         input_1[0][0]                    \n",
      "__________________________________________________________________________________________________\n",
      "max_pooling2d (MaxPooling2D)    (None, 18, 18, 16)   0           conv2d[0][0]                     \n",
      "__________________________________________________________________________________________________\n",
      "conv2d_1 (Conv2D)               (None, 18, 18, 32)   4640        max_pooling2d[0][0]              \n",
      "__________________________________________________________________________________________________\n",
      "max_pooling2d_1 (MaxPooling2D)  (None, 9, 9, 32)     0           conv2d_1[0][0]                   \n",
      "__________________________________________________________________________________________________\n",
      "conv2d_2 (Conv2D)               (None, 9, 9, 64)     18496       max_pooling2d_1[0][0]            \n",
      "__________________________________________________________________________________________________\n",
      "max_pooling2d_2 (MaxPooling2D)  (None, 4, 4, 64)     0           conv2d_2[0][0]                   \n",
      "__________________________________________________________________________________________________\n",
      "conv2d_3 (Conv2D)               (None, 4, 4, 128)    73856       max_pooling2d_2[0][0]            \n",
      "__________________________________________________________________________________________________\n",
      "flatten (Flatten)               (None, 2048)         0           conv2d_3[0][0]                   \n",
      "__________________________________________________________________________________________________\n",
      "dense (Dense)                   (None, 64)           131136      flatten[0][0]                    \n",
      "__________________________________________________________________________________________________\n",
      "dense_1 (Dense)                 (None, 64)           4160        dense[0][0]                      \n",
      "__________________________________________________________________________________________________\n",
      "dense_2 (Dense)                 (None, 10)           650         dense_1[0][0]                    \n",
      "__________________________________________________________________________________________________\n",
      "dense_3 (Dense)                 (None, 2)            130         dense_1[0][0]                    \n",
      "__________________________________________________________________________________________________\n",
      "dense_4 (Dense)                 (None, 4)            260         dense_1[0][0]                    \n",
      "==================================================================================================\n",
      "Total params: 233,488\n",
      "Trainable params: 233,488\n",
      "Non-trainable params: 0\n",
      "__________________________________________________________________________________________________\n"
     ]
    }
   ],
   "source": [
    "model.summary()"
   ]
  },
  {
   "cell_type": "code",
   "execution_count": null,
   "metadata": {
    "id": "KgWeNTNQI0f4"
   },
   "outputs": [],
   "source": [
    "#model.fit(imgs, labels, epochs=5, batch_size=64)"
   ]
  },
  {
   "cell_type": "code",
   "execution_count": null,
   "metadata": {
    "colab": {
     "base_uri": "https://localhost:8080/"
    },
    "id": "zc5faxktqjiE",
    "outputId": "2fcdc63c-255e-4c06-865a-996074c87b56"
   },
   "outputs": [
    {
     "data": {
      "text/plain": [
       "array([[-0.01725834,  0.00448811,  0.01047117, -0.03446294, -0.0052368 ,\n",
       "         0.01385983, -0.02138148, -0.01389986]], dtype=float32)"
      ]
     },
     "execution_count": 14,
     "metadata": {
      "tags": []
     },
     "output_type": "execute_result"
    }
   ],
   "source": [
    "model.predict(imgs[1].reshape(1,96,96,1))"
   ]
  },
  {
   "cell_type": "code",
   "execution_count": null,
   "metadata": {
    "colab": {
     "base_uri": "https://localhost:8080/"
    },
    "id": "XBoCO4JJznvz",
    "outputId": "8704dabd-fd22-4559-eb49-b5dabd2158b8"
   },
   "outputs": [
    {
     "data": {
      "text/plain": [
       "array([47,  8, 28, 28, 12, 18, 28, 28])"
      ]
     },
     "execution_count": 15,
     "metadata": {
      "tags": []
     },
     "output_type": "execute_result"
    }
   ],
   "source": [
    "labels[1]"
   ]
  },
  {
   "cell_type": "code",
   "execution_count": null,
   "metadata": {
    "id": "fC4LQFHkzt9P"
   },
   "outputs": [],
   "source": []
  }
 ],
 "metadata": {
  "colab": {
   "name": "multi_mnist.ipynb",
   "provenance": []
  },
  "kernelspec": {
   "display_name": "Python 3",
   "language": "python",
   "name": "python3"
  },
  "language_info": {
   "codemirror_mode": {
    "name": "ipython",
    "version": 3
   },
   "file_extension": ".py",
   "mimetype": "text/x-python",
   "name": "python",
   "nbconvert_exporter": "python",
   "pygments_lexer": "ipython3",
   "version": "3.7.4"
  }
 },
 "nbformat": 4,
 "nbformat_minor": 4
}
