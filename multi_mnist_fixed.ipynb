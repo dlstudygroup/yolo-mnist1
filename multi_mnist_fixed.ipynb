{
  "nbformat": 4,
  "nbformat_minor": 0,
  "metadata": {
    "colab": {
      "name": "multi_mnist.ipynb",
      "provenance": []
    },
    "kernelspec": {
      "name": "python3",
      "display_name": "Python 3"
    }
  },
  "cells": [
    {
      "cell_type": "code",
      "metadata": {
        "id": "4t8ihj3jsy9s"
      },
      "source": [
        "import numpy as np\r\n",
        "import pandas as pd\r\n",
        "import matplotlib.pyplot as plt\r\n",
        "import matplotlib\r\n",
        "%matplotlib inline\r\n",
        "import random\r\n",
        "from tqdm import tqdm\r\n",
        "import cv2\r\n",
        "\r\n",
        "import tensorflow as tf\r\n",
        "from tensorflow.keras.datasets.mnist import load_data\r\n",
        "from tensorflow.keras.optimizers import Adam\r\n",
        "\r\n",
        "from tensorflow.keras.models import Model\r\n",
        "from tensorflow.keras.layers import (Input, Dense, Activation, Dropout,\r\n",
        "                                     Conv2D, MaxPooling2D, Flatten)\r\n",
        "from tensorflow.keras.losses import binary_crossentropy\r\n",
        "from tensorflow.keras.losses import mse\r\n",
        "from tensorflow.keras.losses import sparse_categorical_crossentropy"
      ],
      "execution_count": 108,
      "outputs": []
    },
    {
      "cell_type": "code",
      "metadata": {
        "id": "6mIxLr0btOAG"
      },
      "source": [
        "(x_train, y_train), (x_test, y_test) = load_data()"
      ],
      "execution_count": 2,
      "outputs": []
    },
    {
      "cell_type": "code",
      "metadata": {
        "id": "bytUNCj9ucpq"
      },
      "source": [
        "height, width = 128, 128"
      ],
      "execution_count": 3,
      "outputs": []
    },
    {
      "cell_type": "code",
      "metadata": {
        "colab": {
          "base_uri": "https://localhost:8080/",
          "height": 286
        },
        "id": "qwzdjdp6t1wN",
        "outputId": "85713d6a-0a60-4fb6-81de-a325adcdcb76"
      },
      "source": [
        "def make_img(x_array, y_array, height, width):\r\n",
        "  new_img = np.zeros([height, width])\r\n",
        "  mask = np.zeros([height, width])\r\n",
        "  old_height = x_array.shape[1]\r\n",
        "  old_width = x_array.shape[2]\r\n",
        "  all_num = 2\r\n",
        "  num = 0\r\n",
        "  shifts = []\r\n",
        "  while num < all_num:\r\n",
        "    x_shift = random.randint(0, width-old_width)\r\n",
        "    y_shift = random.randint(0, width-old_height)\r\n",
        "    idx = random.randint(0, x_array.shape[0]-1)\r\n",
        "    if (mask[y_shift: y_shift+old_height, x_shift: x_shift+old_height]==0).all():\r\n",
        "      new_img[y_shift: y_shift+old_height, x_shift: x_shift+old_height] = x_array[idx]\r\n",
        "      mask[y_shift: y_shift+old_height, x_shift: x_shift+old_height] = 1\r\n",
        "      shifts.append((y_array[idx], x_shift, y_shift, 28, 28))\r\n",
        "      num +=1\r\n",
        "  return new_img, shifts\r\n",
        "\r\n",
        "s = make_img(x_train, y_train, height, width)\r\n",
        "plt.imshow(s[0])\r\n",
        "print(s[1])\r\n",
        "#plt.gca().add_patch(matplotlib.patches.Rectangle((s[2][0]),28,28, ec='r', fc='none'))"
      ],
      "execution_count": 4,
      "outputs": [
        {
          "output_type": "stream",
          "text": [
            "[(9, 42, 23, 28, 28), (1, 20, 89, 28, 28)]\n"
          ],
          "name": "stdout"
        },
        {
          "output_type": "display_data",
          "data": {
            "image/png": "[encoded data removed]",
            "text/plain": [
              "<Figure size 432x288 with 1 Axes>"
            ]
          },
          "metadata": {
            "tags": [],
            "needs_background": "light"
          }
        }
      ]
    },
    {
      "cell_type": "code",
      "metadata": {
        "id": "ObD2ty4xJjmu",
        "colab": {
          "base_uri": "https://localhost:8080/"
        },
        "outputId": "21205755-462d-4f4f-f372-472b0ce3e772"
      },
      "source": [
        "imgs = []\r\n",
        "labels = []\r\n",
        "for i in tqdm(range(40000)):\r\n",
        "  sample = make_img(x_train, y_train, height, width)\r\n",
        "  imgs.append(sample[0])\r\n",
        "  labels.append(sample[1])"
      ],
      "execution_count": 5,
      "outputs": [
        {
          "output_type": "stream",
          "text": [
            "100%|██████████| 40000/40000 [00:05<00:00, 7784.66it/s]\n"
          ],
          "name": "stderr"
        }
      ]
    },
    {
      "cell_type": "code",
      "metadata": {
        "colab": {
          "base_uri": "https://localhost:8080/"
        },
        "id": "4h32XTyr0saQ",
        "outputId": "bc2a5bb3-da65-4600-dd28-3f73c23def6f"
      },
      "source": [
        "labels[0]"
      ],
      "execution_count": 6,
      "outputs": [
        {
          "output_type": "execute_result",
          "data": {
            "text/plain": [
              "[(2, 63, 15, 28, 28), (5, 77, 49, 28, 28)]"
            ]
          },
          "metadata": {
            "tags": []
          },
          "execution_count": 6
        }
      ]
    },
    {
      "cell_type": "code",
      "metadata": {
        "id": "vP3vUhnQ_TK9",
        "colab": {
          "base_uri": "https://localhost:8080/"
        },
        "outputId": "f67c3146-1eda-4e05-97c0-dacaa56ab9c9"
      },
      "source": [
        "imgs = np.array(imgs)\n",
        "imgs = imgs.reshape(-1, 128, 128, 1)\n",
        "labels = np.array(labels)\n",
        "print(imgs.shape)\n",
        "print(labels.shape)"
      ],
      "execution_count": 7,
      "outputs": [
        {
          "output_type": "stream",
          "text": [
            "(40000, 128, 128, 1)\n",
            "(40000, 2, 5)\n"
          ],
          "name": "stdout"
        }
      ]
    },
    {
      "cell_type": "code",
      "metadata": {
        "colab": {
          "base_uri": "https://localhost:8080/"
        },
        "id": "q1oUX79FBoaE",
        "outputId": "e9e2ee3b-e572-4635-a777-b59f432b2fb6"
      },
      "source": [
        "#the sample is a square\r\n",
        "#test parameters\r\n",
        "\r\n",
        "#height, width = 128, 128\r\n",
        "stride = 10\r\n",
        "size = 28\r\n",
        "padding = 4\r\n",
        "n_rows = 10\r\n",
        "n_cols = 10\r\n",
        "\r\n",
        "dist_threshold = 20\r\n",
        "\r\n",
        "#formula to big padding\r\n",
        "big_padding = int((((size+2*padding)+stride*n_rows)-height)/2)\r\n",
        "\r\n",
        "print(\"sample size with padding: \", height+2*big_padding)\r\n",
        "print(\"box size with padding: \", size+2*padding)\r\n",
        "print(\"stride: \", stride)\r\n",
        "print(\"number of iteration in rows/cols: \", n_rows)"
      ],
      "execution_count": 8,
      "outputs": [
        {
          "output_type": "stream",
          "text": [
            "sample size with padding:  136\n",
            "box size with padding:  36\n",
            "stride:  10\n",
            "number of iteration in rows/cols:  10\n"
          ],
          "name": "stdout"
        }
      ]
    },
    {
      "cell_type": "code",
      "metadata": {
        "id": "NReQ9HOu3RUY"
      },
      "source": [
        "from math import sqrt\r\n",
        "\r\n",
        "def kardashian_dist(labels, h, w):\r\n",
        "    # 1. get coords\r\n",
        "    # 2. count distance\r\n",
        "    # 3. return smallest distance\r\n",
        "    distances = []\r\n",
        "    # example labels:\r\n",
        "    # [(3, 22, 31, 28, 28), (9, 81, 46, 28, 28)]\r\n",
        "    for i, label in enumerate(labels):\r\n",
        "        x = label[1]\r\n",
        "        y = label[2]\r\n",
        "        # a^2 + b^2 = c^2\r\n",
        "        # c = sqrt(a^2 + b^2)\r\n",
        "        distance = sqrt((h - y)**2 + (w - x)**2)\r\n",
        "        distances.append((i, distance))\r\n",
        "    distances.sort(key=lambda x: x[1])\r\n",
        "\r\n",
        "    return distances[0]"
      ],
      "execution_count": 9,
      "outputs": []
    },
    {
      "cell_type": "code",
      "metadata": {
        "id": "3lT_XNYEMWfd"
      },
      "source": [
        "def  random_labels():\r\n",
        "    #(0, 66, 81, 28, 28)\r\n",
        "    return (random.randint(0,9), random.randint(size/2, height-size/2),\r\n",
        "            random.randint(size/2, width-size/2), 28, 28)"
      ],
      "execution_count": 10,
      "outputs": []
    },
    {
      "cell_type": "code",
      "metadata": {
        "colab": {
          "base_uri": "https://localhost:8080/"
        },
        "id": "8Td4_gkWNmup",
        "outputId": "84a641d6-50f5-4ddf-bca5-cb0aeaecdb08"
      },
      "source": [
        "random_labels()\r\n"
      ],
      "execution_count": 11,
      "outputs": [
        {
          "output_type": "execute_result",
          "data": {
            "text/plain": [
              "(9, 78, 14, 28, 28)"
            ]
          },
          "metadata": {
            "tags": []
          },
          "execution_count": 11
        }
      ]
    },
    {
      "cell_type": "code",
      "metadata": {
        "id": "CnmodBIdwHqF"
      },
      "source": [
        "opt = Adam()\r\n"
      ],
      "execution_count": 109,
      "outputs": []
    },
    {
      "cell_type": "code",
      "metadata": {
        "id": "vvBqRdwHBD-3"
      },
      "source": [
        "def step(X, y):\r\n",
        "    for row in range(n_rows):\r\n",
        "        for col in range(n_cols):\r\n",
        "            # x and y of the middle of our slice\r\n",
        "            ybox = (size+2*padding)/2+stride*row\r\n",
        "            xbox = (size+2*padding)/2+stride*col\r\n",
        "\r\n",
        "            distance = kardashian_dist(y, ybox, xbox)\r\n",
        "            sliced_X = X[row*stride: row*stride+36, col*stride: col*stride+36, :]\r\n",
        "            \r\n",
        "            plt.imshow(sliced_X.reshape(36,36))\r\n",
        "            print(f\"Sliced image shape: {sliced_X.shape}\")\r\n",
        "\r\n",
        "            if dist_threshold >= distance[1]:\r\n",
        "                flag = np.array([1,0]).reshape(1,2)\r\n",
        "                label = y[distance[0]]\r\n",
        "\r\n",
        "            else:\r\n",
        "                flag = np.array([0,1]).reshape(1,2)\r\n",
        "                label = random_labels()\r\n",
        "\r\n",
        "            with tf.GradientTape() as tape:\r\n",
        "                pred = model(sliced_X.reshape(1, 36, 36, 1))\r\n",
        "                confidence_loss = binary_crossentropy(flag, pred[1])\r\n",
        "                print(f\"pred[1][0]: {pred[1]}\")\r\n",
        "                if pred[1][0][0] >= 0.5:\r\n",
        "                    clfs_loss = sparse_categorical_crossentropy(label[0], pred[0])\r\n",
        "                    mse_loss = mse(label[1:], pred[2])\r\n",
        "                    grads = tape.gradient([clfs_loss, confidence_loss, mse_loss], model.trainable_variables)\r\n",
        "                    opt.apply_gradients(zip(grads, model.trainable_variables))\r\n",
        "                else:\r\n",
        "                    grads = tape.gradient(confidence_loss, model.trainable_variables)\r\n",
        "                    opt.apply_gradients(zip(grads, model.trainable_variables))  \r\n",
        "\r\n",
        "                #grads = tape.gradient(loss, model.trainable_variables)\r\n",
        "                #opt.apply_gradients(zip(grads, model.trainable_variables))"
      ],
      "execution_count": 110,
      "outputs": []
    },
    {
      "cell_type": "code",
      "metadata": {
        "colab": {
          "base_uri": "https://localhost:8080/",
          "height": 1000
        },
        "id": "HpE_cKvWmhPi",
        "outputId": "7704a297-9586-468e-c586-1a23cf877fa1"
      },
      "source": [
        "for x,y in zip(imgs, labels):\r\n",
        "    print(x.shape, y.shape)\r\n",
        "    step(x,y)\r\n",
        "    break"
      ],
      "execution_count": 111,
      "outputs": [
        {
          "output_type": "stream",
          "text": [
            "(128, 128, 1) (2, 5)\n",
            "Sliced image shape: (36, 36, 1)\n",
            "pred[1][0]: [[0.5 0.5]]\n",
            "Sliced image shape: (36, 36, 1)\n",
            "pred[1][0]: [[0.49949998 0.50049996]]\n",
            "WARNING:tensorflow:Gradients do not exist for variables ['clfs/kernel:0', 'clfs/bias:0', 'reg/kernel:0', 'reg/bias:0'] when minimizing the loss.\n",
            "Sliced image shape: (36, 36, 1)\n",
            "pred[1][0]: [[0.499 0.501]]\n",
            "WARNING:tensorflow:Gradients do not exist for variables ['clfs/kernel:0', 'clfs/bias:0', 'reg/kernel:0', 'reg/bias:0'] when minimizing the loss.\n",
            "Sliced image shape: (36, 36, 1)\n",
            "pred[1][0]: [[0.49850005 0.50149995]]\n",
            "WARNING:tensorflow:Gradients do not exist for variables ['clfs/kernel:0', 'clfs/bias:0', 'reg/kernel:0', 'reg/bias:0'] when minimizing the loss.\n",
            "Sliced image shape: (36, 36, 1)\n",
            "pred[1][0]: [[0.8757707  0.12422932]]\n",
            "Sliced image shape: (36, 36, 1)\n",
            "pred[1][0]: [[0.10940118 0.8905988 ]]\n",
            "WARNING:tensorflow:Gradients do not exist for variables ['clfs/kernel:0', 'clfs/bias:0', 'reg/kernel:0', 'reg/bias:0'] when minimizing the loss.\n",
            "Sliced image shape: (36, 36, 1)\n",
            "pred[1][0]: [[1.0000000e+00 2.6797299e-11]]\n",
            "Sliced image shape: (36, 36, 1)\n",
            "pred[1][0]: [[1.000000e+00 1.300355e-09]]\n",
            "Sliced image shape: (36, 36, 1)\n",
            "pred[1][0]: [[9.9964535e-01 3.5467042e-04]]\n",
            "Sliced image shape: (36, 36, 1)\n",
            "pred[1][0]: [[0.50078535 0.4992147 ]]\n",
            "Sliced image shape: (36, 36, 1)\n",
            "pred[1][0]: [[0.50223917 0.49776074]]\n",
            "Sliced image shape: (36, 36, 1)\n",
            "pred[1][0]: [[0.5043724  0.49562752]]\n",
            "Sliced image shape: (36, 36, 1)\n",
            "pred[1][0]: [[0.507223   0.49277705]]\n",
            "Sliced image shape: (36, 36, 1)\n",
            "pred[1][0]: [[0.5106865  0.48931348]]\n",
            "Sliced image shape: (36, 36, 1)\n",
            "pred[1][0]: [[1.0000000e+00 1.2521891e-08]]\n",
            "Sliced image shape: (36, 36, 1)\n",
            "pred[1][0]: [[1.000000e+00 6.135111e-18]]\n",
            "Sliced image shape: (36, 36, 1)\n",
            "pred[1][0]: [[1.000000e+00 3.810912e-21]]\n",
            "Sliced image shape: (36, 36, 1)\n",
            "pred[1][0]: [[1.0000000e+00 1.2601543e-10]]\n",
            "Sliced image shape: (36, 36, 1)\n",
            "pred[1][0]: [[0.94675916 0.05324084]]\n",
            "Sliced image shape: (36, 36, 1)\n",
            "pred[1][0]: [[0.4956507 0.5043493]]\n",
            "WARNING:tensorflow:Gradients do not exist for variables ['clfs/kernel:0', 'clfs/bias:0', 'reg/kernel:0', 'reg/bias:0'] when minimizing the loss.\n",
            "Sliced image shape: (36, 36, 1)\n",
            "pred[1][0]: [[0.49367037 0.50632954]]\n",
            "WARNING:tensorflow:Gradients do not exist for variables ['clfs/kernel:0', 'clfs/bias:0', 'reg/kernel:0', 'reg/bias:0'] when minimizing the loss.\n",
            "Sliced image shape: (36, 36, 1)\n",
            "pred[1][0]: [[0.4923201  0.50767994]]\n",
            "WARNING:tensorflow:Gradients do not exist for variables ['clfs/kernel:0', 'clfs/bias:0', 'reg/kernel:0', 'reg/bias:0'] when minimizing the loss.\n",
            "Sliced image shape: (36, 36, 1)\n",
            "pred[1][0]: [[0.49146315 0.5085369 ]]\n",
            "WARNING:tensorflow:Gradients do not exist for variables ['clfs/kernel:0', 'clfs/bias:0', 'reg/kernel:0', 'reg/bias:0'] when minimizing the loss.\n",
            "Sliced image shape: (36, 36, 1)\n",
            "pred[1][0]: [[0.49089885 0.5091012 ]]\n",
            "WARNING:tensorflow:Gradients do not exist for variables ['clfs/kernel:0', 'clfs/bias:0', 'reg/kernel:0', 'reg/bias:0'] when minimizing the loss.\n",
            "Sliced image shape: (36, 36, 1)\n",
            "pred[1][0]: [[0.28849524 0.7115047 ]]\n",
            "WARNING:tensorflow:Gradients do not exist for variables ['clfs/kernel:0', 'clfs/bias:0', 'reg/kernel:0', 'reg/bias:0'] when minimizing the loss.\n",
            "Sliced image shape: (36, 36, 1)\n",
            "pred[1][0]: [[0.04882308 0.9511769 ]]\n",
            "WARNING:tensorflow:Gradients do not exist for variables ['clfs/kernel:0', 'clfs/bias:0', 'reg/kernel:0', 'reg/bias:0'] when minimizing the loss.\n",
            "Sliced image shape: (36, 36, 1)\n",
            "pred[1][0]: [[0.01400512 0.9859949 ]]\n",
            "WARNING:tensorflow:Gradients do not exist for variables ['clfs/kernel:0', 'clfs/bias:0', 'reg/kernel:0', 'reg/bias:0'] when minimizing the loss.\n",
            "Sliced image shape: (36, 36, 1)\n",
            "pred[1][0]: [[0.00768316 0.99231684]]\n",
            "WARNING:tensorflow:Gradients do not exist for variables ['clfs/kernel:0', 'clfs/bias:0', 'reg/kernel:0', 'reg/bias:0'] when minimizing the loss.\n",
            "Sliced image shape: (36, 36, 1)\n",
            "pred[1][0]: [[0.30101007 0.69899   ]]\n",
            "WARNING:tensorflow:Gradients do not exist for variables ['clfs/kernel:0', 'clfs/bias:0', 'reg/kernel:0', 'reg/bias:0'] when minimizing the loss.\n",
            "Sliced image shape: (36, 36, 1)\n",
            "pred[1][0]: [[0.48976597 0.51023406]]\n",
            "WARNING:tensorflow:Gradients do not exist for variables ['clfs/kernel:0', 'clfs/bias:0', 'reg/kernel:0', 'reg/bias:0'] when minimizing the loss.\n",
            "Sliced image shape: (36, 36, 1)\n",
            "pred[1][0]: [[0.48975253 0.5102475 ]]\n",
            "WARNING:tensorflow:Gradients do not exist for variables ['clfs/kernel:0', 'clfs/bias:0', 'reg/kernel:0', 'reg/bias:0'] when minimizing the loss.\n",
            "Sliced image shape: (36, 36, 1)\n",
            "pred[1][0]: [[0.48964414 0.51035583]]\n",
            "WARNING:tensorflow:Gradients do not exist for variables ['clfs/kernel:0', 'clfs/bias:0', 'reg/kernel:0', 'reg/bias:0'] when minimizing the loss.\n",
            "Sliced image shape: (36, 36, 1)\n",
            "pred[1][0]: [[0.48949364 0.5105064 ]]\n",
            "WARNING:tensorflow:Gradients do not exist for variables ['clfs/kernel:0', 'clfs/bias:0', 'reg/kernel:0', 'reg/bias:0'] when minimizing the loss.\n",
            "Sliced image shape: (36, 36, 1)\n",
            "pred[1][0]: [[0.48924947 0.51075053]]\n",
            "WARNING:tensorflow:Gradients do not exist for variables ['clfs/kernel:0', 'clfs/bias:0', 'reg/kernel:0', 'reg/bias:0'] when minimizing the loss.\n",
            "Sliced image shape: (36, 36, 1)\n",
            "pred[1][0]: [[0.49955532 0.5004447 ]]\n",
            "WARNING:tensorflow:Gradients do not exist for variables ['clfs/kernel:0', 'clfs/bias:0', 'reg/kernel:0', 'reg/bias:0'] when minimizing the loss.\n",
            "Sliced image shape: (36, 36, 1)\n",
            "pred[1][0]: [[0.60532063 0.39467934]]\n",
            "Sliced image shape: (36, 36, 1)\n",
            "pred[1][0]: [[0.6877312 0.3122688]]\n",
            "Sliced image shape: (36, 36, 1)\n",
            "pred[1][0]: [[0.43324888 0.5667511 ]]\n",
            "WARNING:tensorflow:Gradients do not exist for variables ['clfs/kernel:0', 'clfs/bias:0', 'reg/kernel:0', 'reg/bias:0'] when minimizing the loss.\n",
            "Sliced image shape: (36, 36, 1)\n",
            "pred[1][0]: [[0.2890895 0.7109105]]\n",
            "WARNING:tensorflow:Gradients do not exist for variables ['clfs/kernel:0', 'clfs/bias:0', 'reg/kernel:0', 'reg/bias:0'] when minimizing the loss.\n",
            "Sliced image shape: (36, 36, 1)\n",
            "pred[1][0]: [[0.47849175 0.5215083 ]]\n",
            "WARNING:tensorflow:Gradients do not exist for variables ['clfs/kernel:0', 'clfs/bias:0', 'reg/kernel:0', 'reg/bias:0'] when minimizing the loss.\n",
            "Sliced image shape: (36, 36, 1)\n",
            "pred[1][0]: [[0.48932654 0.5106735 ]]\n",
            "WARNING:tensorflow:Gradients do not exist for variables ['clfs/kernel:0', 'clfs/bias:0', 'reg/kernel:0', 'reg/bias:0'] when minimizing the loss.\n",
            "Sliced image shape: (36, 36, 1)\n",
            "pred[1][0]: [[0.48934814 0.5106519 ]]\n",
            "WARNING:tensorflow:Gradients do not exist for variables ['clfs/kernel:0', 'clfs/bias:0', 'reg/kernel:0', 'reg/bias:0'] when minimizing the loss.\n",
            "Sliced image shape: (36, 36, 1)\n",
            "pred[1][0]: [[0.48928657 0.51071334]]\n",
            "WARNING:tensorflow:Gradients do not exist for variables ['clfs/kernel:0', 'clfs/bias:0', 'reg/kernel:0', 'reg/bias:0'] when minimizing the loss.\n",
            "Sliced image shape: (36, 36, 1)\n",
            "pred[1][0]: [[0.48913923 0.5108608 ]]\n",
            "WARNING:tensorflow:Gradients do not exist for variables ['clfs/kernel:0', 'clfs/bias:0', 'reg/kernel:0', 'reg/bias:0'] when minimizing the loss.\n",
            "Sliced image shape: (36, 36, 1)\n",
            "pred[1][0]: [[0.48881352 0.5111865 ]]\n",
            "WARNING:tensorflow:Gradients do not exist for variables ['clfs/kernel:0', 'clfs/bias:0', 'reg/kernel:0', 'reg/bias:0'] when minimizing the loss.\n",
            "Sliced image shape: (36, 36, 1)\n",
            "pred[1][0]: [[0.49176595 0.508234  ]]\n",
            "WARNING:tensorflow:Gradients do not exist for variables ['clfs/kernel:0', 'clfs/bias:0', 'reg/kernel:0', 'reg/bias:0'] when minimizing the loss.\n",
            "Sliced image shape: (36, 36, 1)\n",
            "pred[1][0]: [[0.5502833 0.4497167]]\n",
            "Sliced image shape: (36, 36, 1)\n",
            "pred[1][0]: [[0.56824356 0.4317565 ]]\n",
            "Sliced image shape: (36, 36, 1)\n",
            "pred[1][0]: [[0.42155185 0.5784481 ]]\n",
            "WARNING:tensorflow:Gradients do not exist for variables ['clfs/kernel:0', 'clfs/bias:0', 'reg/kernel:0', 'reg/bias:0'] when minimizing the loss.\n",
            "Sliced image shape: (36, 36, 1)\n",
            "pred[1][0]: [[0.33698738 0.6630126 ]]\n",
            "WARNING:tensorflow:Gradients do not exist for variables ['clfs/kernel:0', 'clfs/bias:0', 'reg/kernel:0', 'reg/bias:0'] when minimizing the loss.\n",
            "Sliced image shape: (36, 36, 1)\n",
            "pred[1][0]: [[0.48911995 0.51088   ]]\n",
            "WARNING:tensorflow:Gradients do not exist for variables ['clfs/kernel:0', 'clfs/bias:0', 'reg/kernel:0', 'reg/bias:0'] when minimizing the loss.\n",
            "Sliced image shape: (36, 36, 1)\n",
            "pred[1][0]: [[0.4892479 0.510752 ]]\n",
            "WARNING:tensorflow:Gradients do not exist for variables ['clfs/kernel:0', 'clfs/bias:0', 'reg/kernel:0', 'reg/bias:0'] when minimizing the loss.\n",
            "Sliced image shape: (36, 36, 1)\n",
            "pred[1][0]: [[0.48930255 0.5106974 ]]\n",
            "WARNING:tensorflow:Gradients do not exist for variables ['clfs/kernel:0', 'clfs/bias:0', 'reg/kernel:0', 'reg/bias:0'] when minimizing the loss.\n",
            "Sliced image shape: (36, 36, 1)\n",
            "pred[1][0]: [[0.48923838 0.5107616 ]]\n",
            "WARNING:tensorflow:Gradients do not exist for variables ['clfs/kernel:0', 'clfs/bias:0', 'reg/kernel:0', 'reg/bias:0'] when minimizing the loss.\n",
            "Sliced image shape: (36, 36, 1)\n",
            "pred[1][0]: [[0.48907274 0.51092726]]\n",
            "WARNING:tensorflow:Gradients do not exist for variables ['clfs/kernel:0', 'clfs/bias:0', 'reg/kernel:0', 'reg/bias:0'] when minimizing the loss.\n",
            "Sliced image shape: (36, 36, 1)\n",
            "pred[1][0]: [[0.50547737 0.49452266]]\n",
            "Sliced image shape: (36, 36, 1)\n",
            "pred[1][0]: [[0.8203353  0.17966472]]\n",
            "Sliced image shape: (36, 36, 1)\n",
            "pred[1][0]: [[0.7204892 0.2795108]]\n",
            "Sliced image shape: (36, 36, 1)\n",
            "pred[1][0]: [[0.29860735 0.7013926 ]]\n",
            "WARNING:tensorflow:Gradients do not exist for variables ['clfs/kernel:0', 'clfs/bias:0', 'reg/kernel:0', 'reg/bias:0'] when minimizing the loss.\n",
            "Sliced image shape: (36, 36, 1)\n",
            "pred[1][0]: [[0.10428275 0.89571726]]\n",
            "WARNING:tensorflow:Gradients do not exist for variables ['clfs/kernel:0', 'clfs/bias:0', 'reg/kernel:0', 'reg/bias:0'] when minimizing the loss.\n",
            "Sliced image shape: (36, 36, 1)\n",
            "pred[1][0]: [[0.48784506 0.51215494]]\n",
            "WARNING:tensorflow:Gradients do not exist for variables ['clfs/kernel:0', 'clfs/bias:0', 'reg/kernel:0', 'reg/bias:0'] when minimizing the loss.\n",
            "Sliced image shape: (36, 36, 1)\n",
            "pred[1][0]: [[0.48710346 0.5128965 ]]\n",
            "WARNING:tensorflow:Gradients do not exist for variables ['clfs/kernel:0', 'clfs/bias:0', 'reg/kernel:0', 'reg/bias:0'] when minimizing the loss.\n",
            "Sliced image shape: (36, 36, 1)\n",
            "pred[1][0]: [[0.48612124 0.5138788 ]]\n",
            "WARNING:tensorflow:Gradients do not exist for variables ['clfs/kernel:0', 'clfs/bias:0', 'reg/kernel:0', 'reg/bias:0'] when minimizing the loss.\n",
            "Sliced image shape: (36, 36, 1)\n",
            "pred[1][0]: [[0.4850158 0.5149842]]\n",
            "WARNING:tensorflow:Gradients do not exist for variables ['clfs/kernel:0', 'clfs/bias:0', 'reg/kernel:0', 'reg/bias:0'] when minimizing the loss.\n",
            "Sliced image shape: (36, 36, 1)\n",
            "pred[1][0]: [[0.48375538 0.5162446 ]]\n",
            "WARNING:tensorflow:Gradients do not exist for variables ['clfs/kernel:0', 'clfs/bias:0', 'reg/kernel:0', 'reg/bias:0'] when minimizing the loss.\n",
            "Sliced image shape: (36, 36, 1)\n",
            "pred[1][0]: [[0.5095931 0.4904069]]\n",
            "Sliced image shape: (36, 36, 1)\n",
            "pred[1][0]: [[0.57219833 0.42780167]]\n",
            "Sliced image shape: (36, 36, 1)\n",
            "pred[1][0]: [[0.0148825  0.98511744]]\n",
            "WARNING:tensorflow:Gradients do not exist for variables ['clfs/kernel:0', 'clfs/bias:0', 'reg/kernel:0', 'reg/bias:0'] when minimizing the loss.\n",
            "Sliced image shape: (36, 36, 1)\n",
            "pred[1][0]: [[9.0581256e-05 9.9990940e-01]]\n",
            "WARNING:tensorflow:Gradients do not exist for variables ['clfs/kernel:0', 'clfs/bias:0', 'reg/kernel:0', 'reg/bias:0'] when minimizing the loss.\n",
            "Sliced image shape: (36, 36, 1)\n",
            "pred[1][0]: [[0.00498586 0.99501413]]\n",
            "WARNING:tensorflow:Gradients do not exist for variables ['clfs/kernel:0', 'clfs/bias:0', 'reg/kernel:0', 'reg/bias:0'] when minimizing the loss.\n",
            "Sliced image shape: (36, 36, 1)\n",
            "pred[1][0]: [[0.47511783 0.52488214]]\n",
            "WARNING:tensorflow:Gradients do not exist for variables ['clfs/kernel:0', 'clfs/bias:0', 'reg/kernel:0', 'reg/bias:0'] when minimizing the loss.\n",
            "Sliced image shape: (36, 36, 1)\n",
            "pred[1][0]: [[0.47313127 0.52686876]]\n",
            "WARNING:tensorflow:Gradients do not exist for variables ['clfs/kernel:0', 'clfs/bias:0', 'reg/kernel:0', 'reg/bias:0'] when minimizing the loss.\n",
            "Sliced image shape: (36, 36, 1)\n",
            "pred[1][0]: [[0.47089013 0.5291099 ]]\n",
            "WARNING:tensorflow:Gradients do not exist for variables ['clfs/kernel:0', 'clfs/bias:0', 'reg/kernel:0', 'reg/bias:0'] when minimizing the loss.\n",
            "Sliced image shape: (36, 36, 1)\n",
            "pred[1][0]: [[0.46839875 0.53160125]]\n",
            "WARNING:tensorflow:Gradients do not exist for variables ['clfs/kernel:0', 'clfs/bias:0', 'reg/kernel:0', 'reg/bias:0'] when minimizing the loss.\n",
            "Sliced image shape: (36, 36, 1)\n",
            "pred[1][0]: [[0.46582976 0.5341702 ]]\n",
            "WARNING:tensorflow:Gradients do not exist for variables ['clfs/kernel:0', 'clfs/bias:0', 'reg/kernel:0', 'reg/bias:0'] when minimizing the loss.\n",
            "Sliced image shape: (36, 36, 1)\n",
            "pred[1][0]: [[0.3770633 0.6229367]]\n",
            "WARNING:tensorflow:Gradients do not exist for variables ['clfs/kernel:0', 'clfs/bias:0', 'reg/kernel:0', 'reg/bias:0'] when minimizing the loss.\n",
            "Sliced image shape: (36, 36, 1)\n",
            "pred[1][0]: [[0.01533379 0.9846662 ]]\n",
            "WARNING:tensorflow:Gradients do not exist for variables ['clfs/kernel:0', 'clfs/bias:0', 'reg/kernel:0', 'reg/bias:0'] when minimizing the loss.\n",
            "Sliced image shape: (36, 36, 1)\n",
            "pred[1][0]: [[1.8266992e-05 9.9998176e-01]]\n",
            "WARNING:tensorflow:Gradients do not exist for variables ['clfs/kernel:0', 'clfs/bias:0', 'reg/kernel:0', 'reg/bias:0'] when minimizing the loss.\n",
            "Sliced image shape: (36, 36, 1)\n",
            "pred[1][0]: [[7.6319134e-07 9.9999928e-01]]\n",
            "WARNING:tensorflow:Gradients do not exist for variables ['clfs/kernel:0', 'clfs/bias:0', 'reg/kernel:0', 'reg/bias:0'] when minimizing the loss.\n",
            "Sliced image shape: (36, 36, 1)\n",
            "pred[1][0]: [[0.01286048 0.9871395 ]]\n",
            "WARNING:tensorflow:Gradients do not exist for variables ['clfs/kernel:0', 'clfs/bias:0', 'reg/kernel:0', 'reg/bias:0'] when minimizing the loss.\n",
            "Sliced image shape: (36, 36, 1)\n",
            "pred[1][0]: [[0.44762835 0.5523716 ]]\n",
            "WARNING:tensorflow:Gradients do not exist for variables ['clfs/kernel:0', 'clfs/bias:0', 'reg/kernel:0', 'reg/bias:0'] when minimizing the loss.\n",
            "Sliced image shape: (36, 36, 1)\n",
            "pred[1][0]: [[0.4443269  0.55567306]]\n",
            "WARNING:tensorflow:Gradients do not exist for variables ['clfs/kernel:0', 'clfs/bias:0', 'reg/kernel:0', 'reg/bias:0'] when minimizing the loss.\n",
            "Sliced image shape: (36, 36, 1)\n",
            "pred[1][0]: [[0.44084322 0.5591568 ]]\n",
            "WARNING:tensorflow:Gradients do not exist for variables ['clfs/kernel:0', 'clfs/bias:0', 'reg/kernel:0', 'reg/bias:0'] when minimizing the loss.\n",
            "Sliced image shape: (36, 36, 1)\n",
            "pred[1][0]: [[0.4372192 0.5627808]]\n",
            "WARNING:tensorflow:Gradients do not exist for variables ['clfs/kernel:0', 'clfs/bias:0', 'reg/kernel:0', 'reg/bias:0'] when minimizing the loss.\n",
            "Sliced image shape: (36, 36, 1)\n",
            "pred[1][0]: [[0.4333683  0.56663173]]\n",
            "WARNING:tensorflow:Gradients do not exist for variables ['clfs/kernel:0', 'clfs/bias:0', 'reg/kernel:0', 'reg/bias:0'] when minimizing the loss.\n",
            "Sliced image shape: (36, 36, 1)\n",
            "pred[1][0]: [[0.42909664 0.57090336]]\n",
            "WARNING:tensorflow:Gradients do not exist for variables ['clfs/kernel:0', 'clfs/bias:0', 'reg/kernel:0', 'reg/bias:0'] when minimizing the loss.\n",
            "Sliced image shape: (36, 36, 1)\n",
            "pred[1][0]: [[0.4245851 0.5754149]]\n",
            "WARNING:tensorflow:Gradients do not exist for variables ['clfs/kernel:0', 'clfs/bias:0', 'reg/kernel:0', 'reg/bias:0'] when minimizing the loss.\n",
            "Sliced image shape: (36, 36, 1)\n",
            "pred[1][0]: [[0.41990012 0.5800998 ]]\n",
            "WARNING:tensorflow:Gradients do not exist for variables ['clfs/kernel:0', 'clfs/bias:0', 'reg/kernel:0', 'reg/bias:0'] when minimizing the loss.\n",
            "Sliced image shape: (36, 36, 1)\n",
            "pred[1][0]: [[0.4150813 0.5849187]]\n",
            "WARNING:tensorflow:Gradients do not exist for variables ['clfs/kernel:0', 'clfs/bias:0', 'reg/kernel:0', 'reg/bias:0'] when minimizing the loss.\n",
            "Sliced image shape: (36, 36, 1)\n",
            "pred[1][0]: [[0.4100603 0.5899397]]\n",
            "WARNING:tensorflow:Gradients do not exist for variables ['clfs/kernel:0', 'clfs/bias:0', 'reg/kernel:0', 'reg/bias:0'] when minimizing the loss.\n",
            "Sliced image shape: (36, 36, 1)\n",
            "pred[1][0]: [[0.40482584 0.5951742 ]]\n",
            "WARNING:tensorflow:Gradients do not exist for variables ['clfs/kernel:0', 'clfs/bias:0', 'reg/kernel:0', 'reg/bias:0'] when minimizing the loss.\n",
            "Sliced image shape: (36, 36, 1)\n",
            "pred[1][0]: [[0.39937952 0.6006205 ]]\n",
            "WARNING:tensorflow:Gradients do not exist for variables ['clfs/kernel:0', 'clfs/bias:0', 'reg/kernel:0', 'reg/bias:0'] when minimizing the loss.\n",
            "Sliced image shape: (36, 36, 1)\n",
            "pred[1][0]: [[0.3936748  0.60632527]]\n",
            "WARNING:tensorflow:Gradients do not exist for variables ['clfs/kernel:0', 'clfs/bias:0', 'reg/kernel:0', 'reg/bias:0'] when minimizing the loss.\n",
            "Sliced image shape: (36, 36, 1)\n",
            "pred[1][0]: [[0.38775718 0.6122428 ]]\n",
            "WARNING:tensorflow:Gradients do not exist for variables ['clfs/kernel:0', 'clfs/bias:0', 'reg/kernel:0', 'reg/bias:0'] when minimizing the loss.\n",
            "Sliced image shape: (36, 36, 1)\n",
            "pred[1][0]: [[0.3818382 0.6181618]]\n",
            "WARNING:tensorflow:Gradients do not exist for variables ['clfs/kernel:0', 'clfs/bias:0', 'reg/kernel:0', 'reg/bias:0'] when minimizing the loss.\n",
            "Sliced image shape: (36, 36, 1)\n",
            "pred[1][0]: [[0.3756387 0.6243613]]\n",
            "WARNING:tensorflow:Gradients do not exist for variables ['clfs/kernel:0', 'clfs/bias:0', 'reg/kernel:0', 'reg/bias:0'] when minimizing the loss.\n",
            "Sliced image shape: (36, 36, 1)\n",
            "pred[1][0]: [[0.3692082 0.6307918]]\n",
            "WARNING:tensorflow:Gradients do not exist for variables ['clfs/kernel:0', 'clfs/bias:0', 'reg/kernel:0', 'reg/bias:0'] when minimizing the loss.\n",
            "Sliced image shape: (36, 36, 1)\n",
            "pred[1][0]: [[0.36249948 0.6375005 ]]\n",
            "WARNING:tensorflow:Gradients do not exist for variables ['clfs/kernel:0', 'clfs/bias:0', 'reg/kernel:0', 'reg/bias:0'] when minimizing the loss.\n",
            "Sliced image shape: (36, 36, 1)\n",
            "pred[1][0]: [[0.35597238 0.64402765]]\n",
            "WARNING:tensorflow:Gradients do not exist for variables ['clfs/kernel:0', 'clfs/bias:0', 'reg/kernel:0', 'reg/bias:0'] when minimizing the loss.\n",
            "Sliced image shape: (36, 36, 1)\n",
            "pred[1][0]: [[0.34917155 0.6508285 ]]\n",
            "WARNING:tensorflow:Gradients do not exist for variables ['clfs/kernel:0', 'clfs/bias:0', 'reg/kernel:0', 'reg/bias:0'] when minimizing the loss.\n"
          ],
          "name": "stdout"
        },
        {
          "output_type": "display_data",
          "data": {
            "image/png": "[encoded data removed]",
            "text/plain": [
              "<Figure size 432x288 with 1 Axes>"
            ]
          },
          "metadata": {
            "tags": [],
            "needs_background": "light"
          }
        }
      ]
    },
    {
      "cell_type": "code",
      "metadata": {
        "colab": {
          "base_uri": "https://localhost:8080/"
        },
        "id": "9Hse5ADKiBn0",
        "outputId": "e0950346-555b-4621-f9ef-7434496c7f70"
      },
      "source": [
        "model(x.reshape(1,36,36,1))\r\n"
      ],
      "execution_count": 86,
      "outputs": [
        {
          "output_type": "execute_result",
          "data": {
            "text/plain": [
              "<tf.Tensor: shape=(1, 10), dtype=float32, numpy=\n",
              "array([[2.2385341e-22, 7.0252197e-20, 6.3458164e-19, 4.6856326e-07,\n",
              "        2.5153026e-02, 1.7005808e-04, 9.7467643e-01, 5.1120027e-17,\n",
              "        5.0417019e-17, 5.8615501e-22]], dtype=float32)>"
            ]
          },
          "metadata": {
            "tags": []
          },
          "execution_count": 86
        }
      ]
    },
    {
      "cell_type": "code",
      "metadata": {
        "id": "0Tlpb4rHIBmf"
      },
      "source": [
        "# binary_crossentropy(flag, pred[1])"
      ],
      "execution_count": 49,
      "outputs": []
    },
    {
      "cell_type": "code",
      "metadata": {
        "colab": {
          "base_uri": "https://localhost:8080/"
        },
        "id": "Fh_mS1nYFyQW",
        "outputId": "fd2e255a-f8eb-4b0c-846b-3da1a52a1c98"
      },
      "source": [
        "X_clfs = tf.random.uniform(shape=(1, 36, 36, 1))\r\n",
        "for layer in model.layers[:]:\r\n",
        "    X_clfs = layer(X_clfs)\r\n",
        "    print(layer.__class__.__name__, 'output shape:\\t', X_clfs.shape)"
      ],
      "execution_count": 84,
      "outputs": [
        {
          "output_type": "stream",
          "text": [
            "InputLayer output shape:\t (1, 36, 36, 1)\n",
            "Conv2D output shape:\t (1, 36, 36, 16)\n",
            "MaxPooling2D output shape:\t (1, 18, 18, 16)\n",
            "Conv2D output shape:\t (1, 18, 18, 32)\n",
            "MaxPooling2D output shape:\t (1, 9, 9, 32)\n",
            "Conv2D output shape:\t (1, 9, 9, 64)\n",
            "MaxPooling2D output shape:\t (1, 4, 4, 64)\n",
            "Conv2D output shape:\t (1, 4, 4, 128)\n",
            "MaxPooling2D output shape:\t (1, 2, 2, 128)\n",
            "Flatten output shape:\t (1, 512)\n",
            "Dense output shape:\t (1, 128)\n",
            "Dense output shape:\t (1, 10)\n"
          ],
          "name": "stdout"
        }
      ]
    },
    {
      "cell_type": "code",
      "metadata": {
        "colab": {
          "base_uri": "https://localhost:8080/"
        },
        "id": "aM8gZt8j_LnD",
        "outputId": "dff261b2-203b-42e2-bfc3-b08736aa9132"
      },
      "source": [
        "X_conf = tf.random.uniform(shape=(1, 128))\r\n",
        "layer = model.get_layer(\"conf\")\r\n",
        "X_conf = layer(X_conf)\r\n",
        "print(layer.__class__.__name__, 'output shape:\\t', X_conf.shape)"
      ],
      "execution_count": 48,
      "outputs": [
        {
          "output_type": "stream",
          "text": [
            "Dense output shape:\t (1, 2)\n"
          ],
          "name": "stdout"
        }
      ]
    },
    {
      "cell_type": "code",
      "metadata": {
        "colab": {
          "base_uri": "https://localhost:8080/"
        },
        "id": "cZ_tWY4ATcZR",
        "outputId": "d046ce87-d434-44f0-83b6-92590c5bdda8"
      },
      "source": [
        "imgs[0].shape"
      ],
      "execution_count": 38,
      "outputs": [
        {
          "output_type": "execute_result",
          "data": {
            "text/plain": [
              "(128, 128, 1)"
            ]
          },
          "metadata": {
            "tags": []
          },
          "execution_count": 38
        }
      ]
    },
    {
      "cell_type": "markdown",
      "metadata": {
        "id": "6acs4BNjMPOe"
      },
      "source": [
        "#kiedy jest cyfra\r\n",
        "    cyfry powinny być posortowane\r\n",
        "    jeśli współrzędne są w kwadracie dodaj właściwy label\r\n",
        "    predykcja confidence\r\n",
        "    strata dla regresji powinna być mała\r\n",
        "    klasyfikacja\r\n",
        "\r\n",
        "\r\n",
        "#kiedy nie ma cyfry\r\n",
        "    współrzędne nie są w kwadracie dodaj random label\r\n",
        "    predykcja confidence\r\n",
        "    nie liczymy straty regresji i klasyfikacji"
      ]
    },
    {
      "cell_type": "code",
      "metadata": {
        "id": "EjgshBKB49ea"
      },
      "source": [
        "inp = Input([36,36,1])\r\n",
        "x = Conv2D(16, 3, padding='same', activation='relu')(inp)\r\n",
        "x = MaxPooling2D()(x)\r\n",
        "x = Conv2D(32, 3, padding='same', activation='relu')(x)\r\n",
        "x = MaxPooling2D()(x)\r\n",
        "x = Conv2D(64, 3, padding='same', activation='relu')(x)\r\n",
        "x = MaxPooling2D()(x)\r\n",
        "x = Conv2D(128, 3, padding='same', activation='relu')(x)\r\n",
        "# x = Dropout(0.4)(x)\r\n",
        "x = Flatten()(x)\r\n",
        "x = Dense(128, activation='relu', name=\"dense1\")(x)\r\n",
        "# x = Dropout(0.4)(x)\r\n",
        "x = Dense(128, activation='relu', name=\"dense2\")(x)\r\n",
        "# x = Dropout(0.4)(x)\r\n",
        "clfs = Dense(10, activation=\"softmax\", name=\"clfs\")(x)\r\n",
        "confidence = Dense(2, activation=\"softmax\", name=\"conf\")(x)\r\n",
        "reg = Dense(4, activation=\"linear\", name=\"reg\")(x)\r\n",
        "\r\n",
        "model = Model(inputs=inp, outputs=[clfs, confidence, reg])\r\n",
        "\r\n"
      ],
      "execution_count": 96,
      "outputs": []
    },
    {
      "cell_type": "code",
      "metadata": {
        "id": "Rm-0XrUAECmA"
      },
      "source": [
        "inp = Input([36,36,1])\r\n",
        "x = Conv2D(16, (3,3), padding=\"same\", activation=\"relu\")(inp)\r\n",
        "x = MaxPooling2D()(x)\r\n",
        "\r\n",
        "x = Conv2D(32, (3,3), padding=\"same\", activation=\"relu\")(x)\r\n",
        "x = MaxPooling2D()(x)\r\n",
        "\r\n",
        "x = Conv2D(64, (3,3), padding=\"same\", activation=\"relu\")(x)\r\n",
        "x = MaxPooling2D()(x)\r\n",
        "\r\n",
        "x = Conv2D(128, (3,3), padding=\"same\", activation=\"relu\")(x)\r\n",
        "x = MaxPooling2D()(x)\r\n",
        "\r\n",
        "x = Flatten()(x)\r\n",
        "x = Dense(128, activation=\"relu\")(x)\r\n",
        "clfs = Dense(10, activation=\"softmax\")(x)\r\n",
        "model = Model(inputs=inp, outputs=clfs)"
      ],
      "execution_count": 56,
      "outputs": []
    },
    {
      "cell_type": "code",
      "metadata": {
        "colab": {
          "base_uri": "https://localhost:8080/"
        },
        "id": "9HQx0juyfjKj",
        "outputId": "c326ac3f-370f-4d11-a2e7-2aed8d51b00c"
      },
      "source": [
        "model.summary()"
      ],
      "execution_count": 57,
      "outputs": [
        {
          "output_type": "stream",
          "text": [
            "Model: \"model_8\"\n",
            "_________________________________________________________________\n",
            "Layer (type)                 Output Shape              Param #   \n",
            "=================================================================\n",
            "input_11 (InputLayer)        [(None, 36, 36, 1)]       0         \n",
            "_________________________________________________________________\n",
            "conv2d_37 (Conv2D)           (None, 36, 36, 16)        160       \n",
            "_________________________________________________________________\n",
            "max_pooling2d_28 (MaxPooling (None, 18, 18, 16)        0         \n",
            "_________________________________________________________________\n",
            "conv2d_38 (Conv2D)           (None, 18, 18, 32)        4640      \n",
            "_________________________________________________________________\n",
            "max_pooling2d_29 (MaxPooling (None, 9, 9, 32)          0         \n",
            "_________________________________________________________________\n",
            "conv2d_39 (Conv2D)           (None, 9, 9, 64)          18496     \n",
            "_________________________________________________________________\n",
            "max_pooling2d_30 (MaxPooling (None, 4, 4, 64)          0         \n",
            "_________________________________________________________________\n",
            "conv2d_40 (Conv2D)           (None, 4, 4, 128)         73856     \n",
            "_________________________________________________________________\n",
            "max_pooling2d_31 (MaxPooling (None, 2, 2, 128)         0         \n",
            "_________________________________________________________________\n",
            "flatten_8 (Flatten)          (None, 512)               0         \n",
            "_________________________________________________________________\n",
            "dense_12 (Dense)             (None, 128)               65664     \n",
            "_________________________________________________________________\n",
            "dense_13 (Dense)             (None, 10)                1290      \n",
            "=================================================================\n",
            "Total params: 164,106\n",
            "Trainable params: 164,106\n",
            "Non-trainable params: 0\n",
            "_________________________________________________________________\n"
          ],
          "name": "stdout"
        }
      ]
    },
    {
      "cell_type": "code",
      "metadata": {
        "id": "NvnhNdws5YD9"
      },
      "source": [
        "model.compile(optimizer='adam',\r\n",
        "              loss=[SparseCategoricalCrossentropy(from_logits=True),\r\n",
        "                                      \"binary_crossentropy\",\r\n",
        "                                      'mse'])"
      ],
      "execution_count": null,
      "outputs": []
    },
    {
      "cell_type": "code",
      "metadata": {
        "id": "bRNxUkLonjK6"
      },
      "source": [
        "model.summary()"
      ],
      "execution_count": null,
      "outputs": []
    },
    {
      "cell_type": "code",
      "metadata": {
        "id": "KgWeNTNQI0f4"
      },
      "source": [
        "#model.fit(imgs, labels, epochs=5, batch_size=64)"
      ],
      "execution_count": null,
      "outputs": []
    },
    {
      "cell_type": "code",
      "metadata": {
        "id": "zc5faxktqjiE"
      },
      "source": [
        "model.predict(imgs[1].reshape(1,96,96,1))"
      ],
      "execution_count": null,
      "outputs": []
    },
    {
      "cell_type": "code",
      "metadata": {
        "id": "XBoCO4JJznvz"
      },
      "source": [
        "labels[1]"
      ],
      "execution_count": null,
      "outputs": []
    },
    {
      "cell_type": "code",
      "metadata": {
        "id": "fC4LQFHkzt9P"
      },
      "source": [
        ""
      ],
      "execution_count": null,
      "outputs": []
    }
  ]
}