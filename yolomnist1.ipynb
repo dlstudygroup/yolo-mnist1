{
  "nbformat": 4,
  "nbformat_minor": 0,
  "metadata": {
    "colab": {
      "name": "yolomnist1.ipynb",
      "provenance": []
    },
    "kernelspec": {
      "name": "python3",
      "display_name": "Python 3"
    }
  },
  "cells": [
    {
      "cell_type": "code",
      "metadata": {
        "id": "wPkytepB40ub"
      },
      "source": [
        "import numpy as np\r\n",
        "import pandas as pd\r\n",
        "import matplotlib.pyplot as plt\r\n",
        "import random\r\n",
        "import tensorflow as tf\r\n",
        "\r\n",
        "from tqdm import tqdm\r\n",
        "\r\n",
        "from tensorflow.keras.layers import Dense, Conv2D, MaxPool2D, Flatten, Input\r\n",
        "from tensorflow.keras.models import Model\r\n",
        "\r\n",
        "from tensorflow.keras.datasets.mnist import load_data"
      ],
      "execution_count": 41,
      "outputs": []
    },
    {
      "cell_type": "code",
      "metadata": {
        "id": "_Dnh3FWm45Fg"
      },
      "source": [
        "(x_train, y_train), (x_test, y_test)  = load_data()"
      ],
      "execution_count": 4,
      "outputs": []
    },
    {
      "cell_type": "code",
      "metadata": {
        "colab": {
          "base_uri": "https://localhost:8080/",
          "height": 284
        },
        "id": "5nxjYloS5B_W",
        "outputId": "96ffa7fa-f180-4fda-9a4c-56c5629c1e8f"
      },
      "source": [
        "plt.imshow(x_train[0])"
      ],
      "execution_count": 5,
      "outputs": [
        {
          "output_type": "execute_result",
          "data": {
            "text/plain": [
              "<matplotlib.image.AxesImage at 0x7f0251142470>"
            ]
          },
          "metadata": {
            "tags": []
          },
          "execution_count": 5
        },
        {
          "output_type": "display_data",
          "data": {
            "image/png": "[encoded data removed]",
            "text/plain": [
              "<Figure size 432x288 with 1 Axes>"
            ]
          },
          "metadata": {
            "tags": [],
            "needs_background": "light"
          }
        }
      ]
    },
    {
      "cell_type": "code",
      "metadata": {
        "id": "G8ZhoCrA5EZ_"
      },
      "source": [
        "height = x_train.shape[1]\r\n",
        "old_width = x_train.shape[2]\r\n",
        "width = 128"
      ],
      "execution_count": 6,
      "outputs": []
    },
    {
      "cell_type": "code",
      "metadata": {
        "colab": {
          "base_uri": "https://localhost:8080/",
          "height": 143
        },
        "id": "LRX2NL915Puq",
        "outputId": "4e4c35a1-132a-4232-aea5-e3b6eaf78186"
      },
      "source": [
        "def create_img(x_array, y_array):\r\n",
        "    new_img = np.zeros([height, width])\r\n",
        "    shift = random.randint(0, width-old_width)\r\n",
        "    idx = random.randint(0, x_array.shape[0]-1)\r\n",
        "    y = y_array[idx]\r\n",
        "    new_img[:, shift: shift + old_width] = x_array[idx]\r\n",
        "    return new_img, (y, shift)\r\n",
        "\r\n",
        "_=create_img(x_train, y_train)\r\n",
        "plt.imshow(_[0])\r\n",
        "print(_[1])"
      ],
      "execution_count": 7,
      "outputs": [
        {
          "output_type": "stream",
          "text": [
            "(5, 79)\n"
          ],
          "name": "stdout"
        },
        {
          "output_type": "display_data",
          "data": {
            "image/png": "[encoded data removed]",
            "text/plain": [
              "<Figure size 432x288 with 1 Axes>"
            ]
          },
          "metadata": {
            "tags": [],
            "needs_background": "light"
          }
        }
      ]
    },
    {
      "cell_type": "code",
      "metadata": {
        "colab": {
          "base_uri": "https://localhost:8080/"
        },
        "id": "EG3NjC0gAnvw",
        "outputId": "61b872ed-ce27-450a-97d4-2117394fca60"
      },
      "source": [
        "imgs = []\r\n",
        "nums = []\r\n",
        "shifts = []\r\n",
        "for _ in tqdm(range(50000)):\r\n",
        "    img, (num, shift) = create_img(x_train, y_train)\r\n",
        "    imgs.append(img.reshape(height, width, 1))\r\n",
        "    nums.append(num)\r\n",
        "    shifts.append(shift)"
      ],
      "execution_count": 8,
      "outputs": [
        {
          "output_type": "stream",
          "text": [
            "100%|██████████| 50000/50000 [00:01<00:00, 31290.93it/s]\n"
          ],
          "name": "stderr"
        }
      ]
    },
    {
      "cell_type": "code",
      "metadata": {
        "id": "Qu9YsVTnFUj_"
      },
      "source": [
        "inp = Input([28,128,1])\r\n",
        "\r\n",
        "x = Conv2D(4, kernel_size=(3,3), padding=\"same\", activation=\"relu\")(inp)\r\n",
        "x = MaxPool2D()(x)\r\n",
        "\r\n",
        "x = Conv2D(8, kernel_size=(3,3), padding=\"same\", activation=\"relu\")(x)\r\n",
        "x = Flatten()(x)\r\n",
        "\r\n",
        "x = Dense(128, activation=\"relu\")(x)\r\n",
        "clfs = Dense(10, activation=\"softmax\", name=\"clfs\")(x)\r\n",
        "reg = Dense(1, activation=\"linear\", name=\"reg\")(x)\r\n",
        "\r\n",
        "model = Model(inputs=inp, outputs=[clfs, reg])"
      ],
      "execution_count": 12,
      "outputs": []
    },
    {
      "cell_type": "code",
      "metadata": {
        "colab": {
          "base_uri": "https://localhost:8080/"
        },
        "id": "l1lsOns3GAPI",
        "outputId": "6e85c210-247f-43ea-d19c-3e7357383e0d"
      },
      "source": [
        "model.summary()"
      ],
      "execution_count": 13,
      "outputs": [
        {
          "output_type": "stream",
          "text": [
            "Model: \"model\"\n",
            "__________________________________________________________________________________________________\n",
            "Layer (type)                    Output Shape         Param #     Connected to                     \n",
            "==================================================================================================\n",
            "input_1 (InputLayer)            [(None, 28, 128, 1)] 0                                            \n",
            "__________________________________________________________________________________________________\n",
            "conv2d (Conv2D)                 (None, 28, 128, 4)   40          input_1[0][0]                    \n",
            "__________________________________________________________________________________________________\n",
            "max_pooling2d (MaxPooling2D)    (None, 14, 64, 4)    0           conv2d[0][0]                     \n",
            "__________________________________________________________________________________________________\n",
            "conv2d_1 (Conv2D)               (None, 14, 64, 8)    296         max_pooling2d[0][0]              \n",
            "__________________________________________________________________________________________________\n",
            "flatten (Flatten)               (None, 7168)         0           conv2d_1[0][0]                   \n",
            "__________________________________________________________________________________________________\n",
            "dense (Dense)                   (None, 128)          917632      flatten[0][0]                    \n",
            "__________________________________________________________________________________________________\n",
            "clfs (Dense)                    (None, 10)           1290        dense[0][0]                      \n",
            "__________________________________________________________________________________________________\n",
            "reg (Dense)                     (None, 1)            129         dense[0][0]                      \n",
            "==================================================================================================\n",
            "Total params: 919,387\n",
            "Trainable params: 919,387\n",
            "Non-trainable params: 0\n",
            "__________________________________________________________________________________________________\n"
          ],
          "name": "stdout"
        }
      ]
    },
    {
      "cell_type": "code",
      "metadata": {
        "id": "7ShqGRZyGClZ"
      },
      "source": [
        "model.compile(loss=[tf.keras.losses.SparseCategoricalCrossentropy(from_logits=True), \"MSE\"],\r\n",
        "             optimizer=\"adam\",\r\n",
        "             metrics=[\"accuracy\", \"mae\"])"
      ],
      "execution_count": 14,
      "outputs": []
    },
    {
      "cell_type": "code",
      "metadata": {
        "colab": {
          "base_uri": "https://localhost:8080/"
        },
        "id": "Ke3qT1p2GTtO",
        "outputId": "80a4deed-52de-44e3-a39a-605afded96f1"
      },
      "source": [
        "model.fit(imgs, nums, epochs=10, batch_size=128)"
      ],
      "execution_count": 58,
      "outputs": [
        {
          "output_type": "stream",
          "text": [
            "Epoch 1/10\n",
            "391/391 [==============================] - 65s 166ms/step - loss: 1.5009 - clfs_loss: 0.1783 - reg_loss: 1.3226 - clfs_accuracy: 0.9488 - clfs_mae: 4.3766 - reg_accuracy: 0.1563 - reg_mae: 0.8324\n",
            "Epoch 2/10\n",
            "391/391 [==============================] - 65s 167ms/step - loss: 1.3163 - clfs_loss: 0.1457 - reg_loss: 1.1706 - clfs_accuracy: 0.9574 - clfs_mae: 4.3766 - reg_accuracy: 0.1586 - reg_mae: 0.7787\n",
            "Epoch 3/10\n",
            "391/391 [==============================] - 64s 165ms/step - loss: 1.1809 - clfs_loss: 0.1206 - reg_loss: 1.0604 - clfs_accuracy: 0.9649 - clfs_mae: 4.3766 - reg_accuracy: 0.1598 - reg_mae: 0.7417\n",
            "Epoch 4/10\n",
            "391/391 [==============================] - 65s 165ms/step - loss: 1.0485 - clfs_loss: 0.0985 - reg_loss: 0.9500 - clfs_accuracy: 0.9719 - clfs_mae: 4.3766 - reg_accuracy: 0.1609 - reg_mae: 0.7045\n",
            "Epoch 5/10\n",
            "391/391 [==============================] - 65s 166ms/step - loss: 0.9427 - clfs_loss: 0.0827 - reg_loss: 0.8600 - clfs_accuracy: 0.9774 - clfs_mae: 4.3766 - reg_accuracy: 0.1622 - reg_mae: 0.6712\n",
            "Epoch 6/10\n",
            "391/391 [==============================] - 66s 168ms/step - loss: 0.8580 - clfs_loss: 0.0681 - reg_loss: 0.7899 - clfs_accuracy: 0.9812 - clfs_mae: 4.3766 - reg_accuracy: 0.1652 - reg_mae: 0.6446\n",
            "Epoch 7/10\n",
            "391/391 [==============================] - 65s 167ms/step - loss: 0.7770 - clfs_loss: 0.0573 - reg_loss: 0.7198 - clfs_accuracy: 0.9848 - clfs_mae: 4.3766 - reg_accuracy: 0.1656 - reg_mae: 0.6173\n",
            "Epoch 8/10\n",
            "391/391 [==============================] - 65s 165ms/step - loss: 0.7166 - clfs_loss: 0.0457 - reg_loss: 0.6709 - clfs_accuracy: 0.9891 - clfs_mae: 4.3766 - reg_accuracy: 0.1671 - reg_mae: 0.5973\n",
            "Epoch 9/10\n",
            "391/391 [==============================] - 65s 167ms/step - loss: 0.6428 - clfs_loss: 0.0367 - reg_loss: 0.6062 - clfs_accuracy: 0.9920 - clfs_mae: 4.3766 - reg_accuracy: 0.1683 - reg_mae: 0.5700\n",
            "Epoch 10/10\n",
            "391/391 [==============================] - 66s 168ms/step - loss: 0.5973 - clfs_loss: 0.0301 - reg_loss: 0.5672 - clfs_accuracy: 0.9938 - clfs_mae: 4.3766 - reg_accuracy: 0.1689 - reg_mae: 0.5535\n"
          ],
          "name": "stdout"
        },
        {
          "output_type": "execute_result",
          "data": {
            "text/plain": [
              "<tensorflow.python.keras.callbacks.History at 0x7f0240d7c0f0>"
            ]
          },
          "metadata": {
            "tags": []
          },
          "execution_count": 58
        }
      ]
    },
    {
      "cell_type": "code",
      "metadata": {
        "id": "PwFL7HabKiM9"
      },
      "source": [
        "def make_sample(imgs, nums, shifts):\r\n",
        "  idx = random.randint(0, nums.shape[0]-1)\r\n",
        "  print('nums:', nums[idx])\r\n",
        "  print('shifts:', shifts[idx])\r\n",
        "  plt.imshow(imgs[idx].reshape(28,128))\r\n",
        "  return imgs[idx].reshape(1,28,128)"
      ],
      "execution_count": 30,
      "outputs": []
    },
    {
      "cell_type": "code",
      "metadata": {
        "colab": {
          "base_uri": "https://localhost:8080/",
          "height": 161
        },
        "id": "ji-2mTVrLPBD",
        "outputId": "7062a6eb-a10e-4a84-a12d-b52f9830d73d"
      },
      "source": [
        "c = make_sample(imgs, nums, shifts)"
      ],
      "execution_count": 65,
      "outputs": [
        {
          "output_type": "stream",
          "text": [
            "nums: [7]\n",
            "shifts: [61]\n"
          ],
          "name": "stdout"
        },
        {
          "output_type": "display_data",
          "data": {
            "image/png": "[encoded data removed]",
            "text/plain": [
              "<Figure size 432x288 with 1 Axes>"
            ]
          },
          "metadata": {
            "tags": [],
            "needs_background": "light"
          }
        }
      ]
    },
    {
      "cell_type": "code",
      "metadata": {
        "colab": {
          "base_uri": "https://localhost:8080/"
        },
        "id": "_UcnPB81LQV-",
        "outputId": "583c9150-db48-47a4-cc89-47d92d8c5379"
      },
      "source": [
        "model.predict(c)"
      ],
      "execution_count": 66,
      "outputs": [
        {
          "output_type": "execute_result",
          "data": {
            "text/plain": [
              "[array([[3.7355358e-07, 1.9422778e-05, 3.3381659e-07, 1.5298206e-04,\n",
              "         1.1188361e-08, 3.2126747e-05, 1.6856832e-11, 9.9173146e-01,\n",
              "         3.6660065e-05, 8.0266763e-03]], dtype=float32),\n",
              " array([[6.879027]], dtype=float32)]"
            ]
          },
          "metadata": {
            "tags": []
          },
          "execution_count": 66
        }
      ]
    },
    {
      "cell_type": "code",
      "metadata": {
        "colab": {
          "base_uri": "https://localhost:8080/"
        },
        "id": "1ISfZ04rL0SR",
        "outputId": "cacaa98a-e250-4f59-86d2-5b12a97cf623"
      },
      "source": [
        "model.fit(imgs, (nums, shifts), epochs=10, batch_size=128)"
      ],
      "execution_count": 68,
      "outputs": [
        {
          "output_type": "stream",
          "text": [
            "Epoch 1/10\n",
            "391/391 [==============================] - 65s 166ms/step - loss: 2.2540 - clfs_loss: 0.2297 - reg_loss: 2.0243 - clfs_accuracy: 0.9279 - clfs_mae: 4.3766 - reg_accuracy: 0.0153 - reg_mae: 0.9668\n",
            "Epoch 2/10\n",
            "391/391 [==============================] - 65s 166ms/step - loss: 1.5388 - clfs_loss: 0.2043 - reg_loss: 1.3345 - clfs_accuracy: 0.9367 - clfs_mae: 4.3766 - reg_accuracy: 0.0162 - reg_mae: 0.7941\n",
            "Epoch 3/10\n",
            "391/391 [==============================] - 65s 165ms/step - loss: 1.1715 - clfs_loss: 0.1873 - reg_loss: 0.9842 - clfs_accuracy: 0.9430 - clfs_mae: 4.3766 - reg_accuracy: 0.0167 - reg_mae: 0.6930\n",
            "Epoch 4/10\n",
            "391/391 [==============================] - 67s 170ms/step - loss: 0.9286 - clfs_loss: 0.1719 - reg_loss: 0.7567 - clfs_accuracy: 0.9466 - clfs_mae: 4.3766 - reg_accuracy: 0.0167 - reg_mae: 0.6164\n",
            "Epoch 5/10\n",
            "391/391 [==============================] - 65s 167ms/step - loss: 0.7924 - clfs_loss: 0.1609 - reg_loss: 0.6314 - clfs_accuracy: 0.9504 - clfs_mae: 4.3766 - reg_accuracy: 0.0170 - reg_mae: 0.5718\n",
            "Epoch 6/10\n",
            "391/391 [==============================] - 65s 165ms/step - loss: 0.6843 - clfs_loss: 0.1513 - reg_loss: 0.5330 - clfs_accuracy: 0.9533 - clfs_mae: 4.3766 - reg_accuracy: 0.0173 - reg_mae: 0.5333\n",
            "Epoch 7/10\n",
            "391/391 [==============================] - 64s 164ms/step - loss: 0.6286 - clfs_loss: 0.1371 - reg_loss: 0.4915 - clfs_accuracy: 0.9577 - clfs_mae: 4.3766 - reg_accuracy: 0.0172 - reg_mae: 0.5182\n",
            "Epoch 8/10\n",
            "391/391 [==============================] - 66s 168ms/step - loss: 0.5774 - clfs_loss: 0.1272 - reg_loss: 0.4501 - clfs_accuracy: 0.9624 - clfs_mae: 4.3766 - reg_accuracy: 0.0174 - reg_mae: 0.5006\n",
            "Epoch 9/10\n",
            "391/391 [==============================] - 65s 166ms/step - loss: 0.5093 - clfs_loss: 0.1183 - reg_loss: 0.3910 - clfs_accuracy: 0.9639 - clfs_mae: 4.3766 - reg_accuracy: 0.0175 - reg_mae: 0.4701\n",
            "Epoch 10/10\n",
            "391/391 [==============================] - 65s 166ms/step - loss: 0.4723 - clfs_loss: 0.1077 - reg_loss: 0.3647 - clfs_accuracy: 0.9674 - clfs_mae: 4.3766 - reg_accuracy: 0.0173 - reg_mae: 0.4586\n"
          ],
          "name": "stdout"
        },
        {
          "output_type": "execute_result",
          "data": {
            "text/plain": [
              "<tensorflow.python.keras.callbacks.History at 0x7f0240a61e80>"
            ]
          },
          "metadata": {
            "tags": []
          },
          "execution_count": 68
        }
      ]
    },
    {
      "cell_type": "code",
      "metadata": {
        "colab": {
          "base_uri": "https://localhost:8080/",
          "height": 161
        },
        "id": "af38QzFASvmz",
        "outputId": "8fcf2adb-1920-4a30-90a8-39e8df35d94a"
      },
      "source": [
        "d = make_sample(imgs, nums, shifts)"
      ],
      "execution_count": 82,
      "outputs": [
        {
          "output_type": "stream",
          "text": [
            "nums: [4]\n",
            "shifts: [13]\n"
          ],
          "name": "stdout"
        },
        {
          "output_type": "display_data",
          "data": {
            "image/png": "[encoded data removed]",
            "text/plain": [
              "<Figure size 432x288 with 1 Axes>"
            ]
          },
          "metadata": {
            "tags": [],
            "needs_background": "light"
          }
        }
      ]
    },
    {
      "cell_type": "code",
      "metadata": {
        "colab": {
          "base_uri": "https://localhost:8080/"
        },
        "id": "E5cUHlO4Vym4",
        "outputId": "dd3e9482-543b-4517-fa8b-7e54e974aa2f"
      },
      "source": [
        "model.predict(d)"
      ],
      "execution_count": 83,
      "outputs": [
        {
          "output_type": "execute_result",
          "data": {
            "text/plain": [
              "[array([[6.0137959e-06, 5.8043806e-04, 1.7544051e-03, 5.8857358e-06,\n",
              "         9.1116047e-01, 1.0619872e-04, 8.2138360e-02, 1.1973528e-04,\n",
              "         1.2765710e-05, 4.1157692e-03]], dtype=float32),\n",
              " array([[13.03565]], dtype=float32)]"
            ]
          },
          "metadata": {
            "tags": []
          },
          "execution_count": 83
        }
      ]
    },
    {
      "cell_type": "code",
      "metadata": {
        "id": "GijXlN4JV1gH"
      },
      "source": [
        "def make_data(x_array, y_array, scope):\r\n",
        "  imgs = []\r\n",
        "  nums = []\r\n",
        "  shifts = []\r\n",
        "  for _ in tqdm(range(scope)):\r\n",
        "    img, (num, shift) = create_img(x_array, y_array)\r\n",
        "    imgs.append(img.reshape(height, width, 1))\r\n",
        "    nums.append(num)\r\n",
        "    shifts.append(shift)\r\n",
        "  imgs = np.array(imgs)\r\n",
        "  shifts = np.array(shifts).reshape(-1,1)\r\n",
        "  nums = np.array(nums).reshape(-1,1)\r\n",
        "  imgs = imgs/255\r\n",
        "  return imgs, nums, shifts"
      ],
      "execution_count": 101,
      "outputs": []
    },
    {
      "cell_type": "code",
      "metadata": {
        "colab": {
          "base_uri": "https://localhost:8080/"
        },
        "id": "fJEgA9QaW40u",
        "outputId": "a4d05679-354c-4c36-bbd7-895f2b0854e0"
      },
      "source": [
        "x_test, y_test1, y_test2 = make_data(x_train, y_train, 100)"
      ],
      "execution_count": 109,
      "outputs": [
        {
          "output_type": "stream",
          "text": [
            "100%|██████████| 100/100 [00:00<00:00, 27474.81it/s]\n"
          ],
          "name": "stderr"
        }
      ]
    },
    {
      "cell_type": "code",
      "metadata": {
        "colab": {
          "base_uri": "https://localhost:8080/",
          "height": 161
        },
        "id": "YKoVXdmlXJeG",
        "outputId": "040a304a-6895-4f51-afda-4d01783b8502"
      },
      "source": [
        "f = make_sample(x_test, y_test1, y_test2)"
      ],
      "execution_count": 110,
      "outputs": [
        {
          "output_type": "stream",
          "text": [
            "nums: [1]\n",
            "shifts: [89]\n"
          ],
          "name": "stdout"
        },
        {
          "output_type": "display_data",
          "data": {
            "image/png": "[encoded data removed]",
            "text/plain": [
              "<Figure size 432x288 with 1 Axes>"
            ]
          },
          "metadata": {
            "tags": [],
            "needs_background": "light"
          }
        }
      ]
    },
    {
      "cell_type": "code",
      "metadata": {
        "colab": {
          "base_uri": "https://localhost:8080/"
        },
        "id": "0-cSgeKoXR0P",
        "outputId": "03280f4b-4404-4352-fb38-d18bda3aa00d"
      },
      "source": [
        "model.predict(f)"
      ],
      "execution_count": 111,
      "outputs": [
        {
          "output_type": "execute_result",
          "data": {
            "text/plain": [
              "[array([[3.7946634e-07, 9.9828315e-01, 8.2671463e-08, 1.9441679e-06,\n",
              "         1.3609413e-03, 2.0680742e-08, 3.5327461e-04, 2.6946958e-08,\n",
              "         1.7444926e-07, 8.8048310e-08]], dtype=float32),\n",
              " array([[88.794785]], dtype=float32)]"
            ]
          },
          "metadata": {
            "tags": []
          },
          "execution_count": 111
        }
      ]
    },
    {
      "cell_type": "code",
      "metadata": {
        "id": "Zi5xUML3XqZn"
      },
      "source": [
        ""
      ],
      "execution_count": null,
      "outputs": []
    }
  ]
}